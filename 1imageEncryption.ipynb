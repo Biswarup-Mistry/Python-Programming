{
 "cells": [
  {
   "cell_type": "code",
   "execution_count": 1,
   "id": "7df6cfe9",
   "metadata": {},
   "outputs": [
    {
     "name": "stdout",
     "output_type": "stream",
     "text": [
      "C:\\\\Users\\\\Biswarup Mistry\\\\Desktop\\\\COMPANY\\\\Design_Work\\\\Images\\\\original_lena.png3\n",
      "Enter Key for encryption of Image : 3\n",
      "The path of file :  3\n",
      "Key for encryption :  3\n",
      "Error caught :  Exception\n"
     ]
    }
   ],
   "source": [
    "# try block to handle exception\n",
    "try:\n",
    "\t# take path of image as a input\n",
    "\tpath = input(r'C:\\\\Users\\\\Biswarup Mistry\\\\Desktop\\\\COMPANY\\\\Design_Work\\\\Images\\\\original_lena.png')\n",
    "\t\n",
    "\t# taking encryption key as input\n",
    "\tkey = int(input('Enter Key for encryption of Image : '))\n",
    "\t\n",
    "\t# print path of image file and encryption key that\n",
    "\t# we are using\n",
    "\tprint('The path of file : ', path)\n",
    "\tprint('Key for encryption : ', key)\n",
    "\t\n",
    "\t# open file for reading purpose\n",
    "\tfin = open(path, 'rb')\n",
    "\t\n",
    "\t# storing image data in variable \"image\"\n",
    "\timage = fin.read()\n",
    "\tfin.close()\n",
    "\t\n",
    "\t# converting image into byte array to\n",
    "\t# perform encryption easily on numeric data\n",
    "\timage = bytearray(image)\n",
    "\n",
    "\t# performing XOR operation on each value of bytearray\n",
    "\tfor index, values in enumerate(image):\n",
    "\t\timage[index] = values ^ key\n",
    "\n",
    "\t# opening file for writing purpose\n",
    "\tfin = open(path, 'wb')\n",
    "\t\n",
    "\t# writing encrypted data in image\n",
    "\tfin.write(image)\n",
    "\tfin.close()\n",
    "\tprint('Encryption Done...')\n",
    "\n",
    "\t\n",
    "except Exception:\n",
    "\tprint('Error caught : ', Exception.__name__)\n"
   ]
  },
  {
   "cell_type": "code",
   "execution_count": null,
   "id": "569dc70b",
   "metadata": {},
   "outputs": [],
   "source": []
  }
 ],
 "metadata": {
  "kernelspec": {
   "display_name": "Python 3 (ipykernel)",
   "language": "python",
   "name": "python3"
  },
  "language_info": {
   "codemirror_mode": {
    "name": "ipython",
    "version": 3
   },
   "file_extension": ".py",
   "mimetype": "text/x-python",
   "name": "python",
   "nbconvert_exporter": "python",
   "pygments_lexer": "ipython3",
   "version": "3.10.9"
  }
 },
 "nbformat": 4,
 "nbformat_minor": 5
}
