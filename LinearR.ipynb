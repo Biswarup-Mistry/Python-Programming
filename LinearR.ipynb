{
 "cells": [
  {
   "cell_type": "code",
   "execution_count": 1,
   "id": "ca9df52e",
   "metadata": {},
   "outputs": [],
   "source": [
    "import matplotlib.pyplot as plt\n",
    "import numpy as np\n",
    "import random\n",
    "\n"
   ]
  },
  {
   "cell_type": "code",
   "execution_count": 2,
   "id": "3fdda252",
   "metadata": {},
   "outputs": [
    {
     "name": "stdout",
     "output_type": "stream",
     "text": [
      "ran :  4\n",
      "x :  [49 25 55 77]\n"
     ]
    }
   ],
   "source": [
    "k=[]\n",
    "l=[]\n",
    "\n",
    "ran=int(random.randrange(0,10,1))\n",
    "print('ran : ',ran)\n",
    "x=np.array(random.sample(range(100), ran))\n",
    "\n",
    "print('x : ',x)\n",
    "\n"
   ]
  },
  {
   "cell_type": "code",
   "execution_count": 3,
   "id": "ee40213a",
   "metadata": {},
   "outputs": [
    {
     "name": "stdout",
     "output_type": "stream",
     "text": [
      "[[ 49 497]\n",
      " [ 25 257]\n",
      " [ 55 557]\n",
      " [ 77 777]]\n"
     ]
    }
   ],
   "source": [
    "i=0\n",
    "while i<ran:\n",
    "    num=10*x[i]+7\n",
    "    l.append(num)\n",
    "    i+=1\n",
    "y=np.array(l)\n",
    "\n",
    "data = np.vstack([x, y]).T\n",
    "print (data[:])\n",
    "\n",
    "\n"
   ]
  },
  {
   "cell_type": "code",
   "execution_count": 4,
   "id": "a9fb567d",
   "metadata": {},
   "outputs": [
    {
     "name": "stdout",
     "output_type": "stream",
     "text": [
      "x[i]*y[i] : [24353, 6425, 30635, 59829]\n",
      "x[i]*x[i] : [2401, 625, 3025, 5929]\n",
      "sum of array xi^2 :  11980\n",
      "sum of array xi*yi :  121242\n",
      "sum of array x : 206 \n",
      "sum of array y : 2088\n"
     ]
    },
    {
     "data": {
      "image/png": "[encoded data removed]",
      "text/plain": [
       "<Figure size 432x288 with 1 Axes>"
      ]
     },
     "metadata": {
      "needs_background": "light"
     },
     "output_type": "display_data"
    }
   ],
   "source": [
    "plt.xlabel(\"Avg Pulse\")\n",
    "plt.ylabel(\"Avg Life\")\n",
    "plt.scatter(x, y,marker='+')\n",
    "\n",
    "a=np.sum(x)\n",
    "b=np.sum(y)\n",
    "\n",
    "p=[]\n",
    "i=0\n",
    "while i<ran:\n",
    "    p.append(x[i]*y[i])\n",
    "    i+=1\n",
    "print('x[i]*y[i] :',p)\n",
    "c=np.sum(p)\n",
    "\n",
    "i=0\n",
    "u=[]\n",
    "while i<ran:\n",
    "    u.append(x[i]*x[i])\n",
    "    i+=1\n",
    "print('x[i]*x[i] :',u)\n",
    "d=np.sum(u)\n",
    "\n",
    "print('sum of array xi^2 : ',d)\n",
    "print('sum of array xi*yi : ',c)\n",
    "print('sum of array x :',a, '\\nsum of array y :',b)\n",
    "\n"
   ]
  },
  {
   "cell_type": "code",
   "execution_count": 5,
   "id": "626e3c91",
   "metadata": {},
   "outputs": [
    {
     "name": "stdout",
     "output_type": "stream",
     "text": [
      "z :  10.0 \n",
      "s :  7.0\n",
      "formula is : \n",
      "\n",
      "y =  10.0 x +  7.0\n"
     ]
    }
   ],
   "source": [
    "m=a\n",
    "n=b\n",
    "v=c\n",
    "r=d\n",
    "\n",
    "z=(m*n-ran*v)/(m*m-ran*r)\n",
    "s=(m*v-n*r)/(m*m-ran*r)\n",
    "\n",
    "print(\"z : \",z,\"\\ns : \",s)\n",
    "print('formula is : \\n')\n",
    "print('y = ',z,'x + ',s)\n",
    "\n",
    "#plt.plot(x, y, marker='+')\n",
    "plt.show()\n"
   ]
  },
  {
   "cell_type": "code",
   "execution_count": null,
   "id": "cd033633",
   "metadata": {},
   "outputs": [],
   "source": []
  }
 ],
 "metadata": {
  "kernelspec": {
   "display_name": "Python 3 (ipykernel)",
   "language": "python",
   "name": "python3"
  },
  "language_info": {
   "codemirror_mode": {
    "name": "ipython",
    "version": 3
   },
   "file_extension": ".py",
   "mimetype": "text/x-python",
   "name": "python",
   "nbconvert_exporter": "python",
   "pygments_lexer": "ipython3",
   "version": "3.9.12"
  }
 },
 "nbformat": 4,
 "nbformat_minor": 5
}
