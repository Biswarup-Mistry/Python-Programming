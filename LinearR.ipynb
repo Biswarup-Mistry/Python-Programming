{
 "cells": [
  {
   "cell_type": "code",
   "execution_count": 1,
   "id": "ca9df52e",
   "metadata": {},
   "outputs": [
    {
     "name": "stdout",
     "output_type": "stream",
     "text": [
      "ran :  9\n",
      "x :  [57 28  1 55 38 82 93  9 32]\n",
      "[[ 57 577]\n",
      " [ 28 287]\n",
      " [  1  17]\n",
      " [ 55 557]\n",
      " [ 38 387]\n",
      " [ 82 827]\n",
      " [ 93 937]\n",
      " [  9  97]\n",
      " [ 32 327]]\n",
      "x[i]*y[i] : [32889, 8036, 17, 30635, 14706, 67814, 87141, 873, 10464]\n",
      "x[i]*x[i] : [3249, 784, 1, 3025, 1444, 6724, 8649, 81, 1024]\n",
      "sum of array xi^2 :  24981\n",
      "sum of array xi*yi :  252575\n",
      "sum of array x : 395 \n",
      "sum of array y : 4013\n",
      "z :  10.0 \n",
      "s :  7.0\n",
      "formula is : \n",
      "\n",
      "y =  10.0 x +  7.0\n"
     ]
    },
    {
     "data": {
      "image/png": "[encoded data removed]",
      "text/plain": [
       "<Figure size 432x288 with 1 Axes>"
      ]
     },
     "metadata": {
      "needs_background": "light"
     },
     "output_type": "display_data"
    }
   ],
   "source": [
    "import matplotlib.pyplot as plt\n",
    "import numpy as np\n",
    "import random\n",
    "\n",
    "k=[]\n",
    "l=[]\n",
    "\n",
    "ran=int(random.randrange(0,10,1))\n",
    "print('ran : ',ran)\n",
    "x=np.array(random.sample(range(100), ran))\n",
    "\n",
    "print('x : ',x)\n",
    "\n",
    "i=0\n",
    "while i<ran:\n",
    "    num=10*x[i]+7\n",
    "    l.append(num)\n",
    "    i+=1\n",
    "y=np.array(l)\n",
    "\n",
    "data = np.vstack([x, y]).T\n",
    "print (data[:])\n",
    "\n",
    "\n",
    "plt.xlabel(\"Avg Pulse\")\n",
    "plt.ylabel(\"Avg Life\")\n",
    "plt.scatter(x, y,marker='+')\n",
    "\n",
    "a=np.sum(x)\n",
    "b=np.sum(y)\n",
    "\n",
    "p=[]\n",
    "i=0\n",
    "while i<ran:\n",
    "    p.append(x[i]*y[i])\n",
    "    i+=1\n",
    "print('x[i]*y[i] :',p)\n",
    "c=np.sum(p)\n",
    "\n",
    "i=0\n",
    "u=[]\n",
    "while i<ran:\n",
    "    u.append(x[i]*x[i])\n",
    "    i+=1\n",
    "print('x[i]*x[i] :',u)\n",
    "d=np.sum(u)\n",
    "\n",
    "print('sum of array xi^2 : ',d)\n",
    "print('sum of array xi*yi : ',c)\n",
    "print('sum of array x :',a, '\\nsum of array y :',b)\n",
    "\n",
    "m=a\n",
    "n=b\n",
    "v=c\n",
    "r=d\n",
    "\n",
    "z=(m*n-ran*v)/(m*m-ran*r)\n",
    "s=(m*v-n*r)/(m*m-ran*r)\n",
    "\n",
    "print(\"z : \",z,\"\\ns : \",s)\n",
    "print('formula is : \\n')\n",
    "print('y = ',z,'x + ',s)\n",
    "\n",
    "#plt.plot(x, y, marker='+')\n",
    "plt.show()\n"
   ]
  },
  {
   "cell_type": "code",
   "execution_count": null,
   "id": "ee40213a",
   "metadata": {},
   "outputs": [],
   "source": []
  },
  {
   "cell_type": "code",
   "execution_count": null,
   "id": "a9fb567d",
   "metadata": {},
   "outputs": [],
   "source": []
  },
  {
   "cell_type": "code",
   "execution_count": null,
   "id": "626e3c91",
   "metadata": {},
   "outputs": [],
   "source": []
  }
 ],
 "metadata": {
  "kernelspec": {
   "display_name": "Python 3 (ipykernel)",
   "language": "python",
   "name": "python3"
  },
  "language_info": {
   "codemirror_mode": {
    "name": "ipython",
    "version": 3
   },
   "file_extension": ".py",
   "mimetype": "text/x-python",
   "name": "python",
   "nbconvert_exporter": "python",
   "pygments_lexer": "ipython3",
   "version": "3.9.12"
  }
 },
 "nbformat": 4,
 "nbformat_minor": 5
}
