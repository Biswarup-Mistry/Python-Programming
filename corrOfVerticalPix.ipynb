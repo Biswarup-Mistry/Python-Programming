{
 "cells": [
  {
   "cell_type": "code",
   "execution_count": 1,
   "id": "3ced300c",
   "metadata": {},
   "outputs": [],
   "source": [
    "import matplotlib.pyplot as plt\n",
    "import numpy as np\n",
    "from PIL import Image\n",
    "import random\n",
    "import math"
   ]
  },
  {
   "cell_type": "code",
   "execution_count": 2,
   "id": "60ca244d",
   "metadata": {},
   "outputs": [],
   "source": [
    "def getMatrix(width,height):\n",
    "    i=0\n",
    "    j=0\n",
    "    while i<width:\n",
    "        while j<height:\n",
    "            #print('i=',i)\n",
    "            #print('j=',j)\n",
    "            I[i,j]=img.getpixel((i,j))[0]\n",
    "            j+=1\n",
    "        j=0\n",
    "        i+=1\n"
   ]
  },
  {
   "cell_type": "code",
   "execution_count": 3,
   "id": "9855275d",
   "metadata": {},
   "outputs": [
    {
     "data": {
      "image/png": "[encoded data removed]",
      "text/plain": [
       "<Figure size 432x288 with 1 Axes>"
      ]
     },
     "metadata": {
      "needs_background": "light"
     },
     "output_type": "display_data"
    },
    {
     "name": "stdout",
     "output_type": "stream",
     "text": [
      "Image size :  4 * 4\n",
      "Matrix PXL :\n",
      " [[ 33  86  87 100]\n",
      " [ 33  68 119 163]\n",
      " [ 34 178 107  50]\n",
      " [ 32 214  79  54]]\n"
     ]
    }
   ],
   "source": [
    "img=Image.open(r'C:\\Users\\Biswarup Mistry\\Downloads\\index.jpg')\n",
    "px=img.load()\n",
    "plt.imshow(img, cmap=plt.cm.gray, interpolation='nearest')\n",
    "plt.title('index.jpg')\n",
    "plt.show()\n",
    "width, height = img.size\n",
    "print('Image size : ',height,'*',width)\n",
    "I=np.matrix(np.arange(width*height).reshape(width, height))\n",
    "getMatrix(width,height)\n",
    "print('Matrix PXL :\\n',I)\n"
   ]
  },
  {
   "cell_type": "code",
   "execution_count": 4,
   "id": "c7ebd4f9",
   "metadata": {},
   "outputs": [
    {
     "name": "stdout",
     "output_type": "stream",
     "text": [
      "a :  [33, 33, 34, 32, 86, 68, 178, 214, 87, 119, 107, 79, 100, 163, 50, 54]\n",
      "x :  [33, 33, 34, 32, 86, 68, 178, 214, 87, 119, 107, 79, 100, 163, 50]\n",
      "y :  [33, 34, 32, 86, 68, 178, 214, 87, 119, 107, 79, 100, 163, 50, 54]\n",
      "len(x) :  15\n",
      "len(a) :  16\n"
     ]
    }
   ],
   "source": [
    "# Changing Block\n",
    "x=[]\n",
    "y=[]\n",
    "a=[]\n",
    "k=0\n",
    "#while k<height:\n",
    "    #i=0\n",
    "    #while i<width:\n",
    "        #if (i+1)<width :\n",
    "        #    x.append(I[k,i])\n",
    "        #    y.append(I[k,(i+1)])\n",
    "        #i+=1\n",
    "    #print(k)\n",
    "    #k+=1\n",
    "\n",
    "i=j=0\n",
    "while i<height: \n",
    "    j=0\n",
    "    while j<width:\n",
    "        a.append(I[j,i])\n",
    "        j+=1\n",
    "    i+=1\n",
    "    \n",
    "i=j=0\n",
    "while (i+1)<len(a): \n",
    "    x.append(a[i])\n",
    "    y.append(a[i+1])\n",
    "    i+=1\n",
    "    \n",
    "print('a : ',a)\n",
    "print('x : ',x)\n",
    "print('y : ',y)\n",
    "print('len(x) : ',len(x))\n",
    "print('len(a) : ',len(a))"
   ]
  },
  {
   "cell_type": "code",
   "execution_count": 5,
   "id": "54ecf164",
   "metadata": {},
   "outputs": [],
   "source": [
    "def pearson_corr():\n",
    "    k_x=[]\n",
    "    k_y=[]\n",
    "    k_x_sq=[]\n",
    "    k_y_sq=[]\n",
    "    l=[]\n",
    "    sum_x=np.sum(x)\n",
    "    sum_y=np.sum(y)\n",
    "    x_bar=sum_x/len(x)\n",
    "    y_bar=sum_y/len(y)\n",
    "    for i in x:\n",
    "        k_x.append(i-x_bar)\n",
    "    for i in y:\n",
    "        k_y.append(i-y_bar)\n",
    "    for i in k_x:\n",
    "        k_x_sq.append(i*i)\n",
    "    for i in k_y:\n",
    "        k_y_sq.append(i*i)\n",
    "    sum_k_x_sq=np.sum(k_x_sq)\n",
    "    std_dv_x=sum_k_x_sq/len(x)\n",
    "    sum_k_y_sq=np.sum(k_y_sq)\n",
    "    std_dv_y=sum_k_y_sq/len(y)\n",
    "    i=0\n",
    "    while i<len(x):\n",
    "        l.append(k_x[i]*k_y[i])\n",
    "        i+=1\n",
    "    sum_of_l=np.sum(l)\n",
    "    cov_x_y=sum_of_l/len(x)\n",
    "    #pears_corr=cov_x_y/((math.sqrt(std_dv_x))*(math.sqrt(std_dv_y)))\n",
    "    pears_corr=float(\"{:.8f}\".format(cov_x_y/((math.sqrt(std_dv_x))*(math.sqrt(std_dv_y)))))\n",
    "    return pears_corr"
   ]
  },
  {
   "cell_type": "code",
   "execution_count": 6,
   "id": "ed29a3a5",
   "metadata": {},
   "outputs": [
    {
     "name": "stdout",
     "output_type": "stream",
     "text": [
      "0.40774963\n"
     ]
    }
   ],
   "source": [
    "print(pearson_corr())"
   ]
  },
  {
   "cell_type": "code",
   "execution_count": 7,
   "id": "a142b676",
   "metadata": {},
   "outputs": [
    {
     "data": {
      "text/plain": [
       "array([[1.        , 0.40774963],\n",
       "       [0.40774963, 1.        ]])"
      ]
     },
     "execution_count": 7,
     "metadata": {},
     "output_type": "execute_result"
    }
   ],
   "source": [
    "r = np.corrcoef(x, y)\n",
    "r"
   ]
  },
  {
   "cell_type": "code",
   "execution_count": null,
   "id": "6ebd2f04",
   "metadata": {},
   "outputs": [],
   "source": []
  }
 ],
 "metadata": {
  "kernelspec": {
   "display_name": "Python 3 (ipykernel)",
   "language": "python",
   "name": "python3"
  },
  "language_info": {
   "codemirror_mode": {
    "name": "ipython",
    "version": 3
   },
   "file_extension": ".py",
   "mimetype": "text/x-python",
   "name": "python",
   "nbconvert_exporter": "python",
   "pygments_lexer": "ipython3",
   "version": "3.9.12"
  }
 },
 "nbformat": 4,
 "nbformat_minor": 5
}
