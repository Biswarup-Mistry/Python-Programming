{
 "cells": [
  {
   "cell_type": "code",
   "execution_count": 4,
   "metadata": {
    "id": "UZApOIeTp8wR"
   },
   "outputs": [
    {
     "ename": "ModuleNotFoundError",
     "evalue": "No module named 'keras'",
     "output_type": "error",
     "traceback": [
      "\u001b[1;31m---------------------------------------------------------------------------\u001b[0m",
      "\u001b[1;31mModuleNotFoundError\u001b[0m                       Traceback (most recent call last)",
      "Cell \u001b[1;32mIn[4], line 7\u001b[0m\n\u001b[0;32m      3\u001b[0m \u001b[38;5;28;01mimport\u001b[39;00m \u001b[38;5;21;01mmatplotlib\u001b[39;00m\u001b[38;5;21;01m.\u001b[39;00m\u001b[38;5;21;01mpyplot\u001b[39;00m \u001b[38;5;28;01mas\u001b[39;00m \u001b[38;5;21;01mplt\u001b[39;00m\n\u001b[0;32m      4\u001b[0m \u001b[38;5;28;01mimport\u001b[39;00m \u001b[38;5;21;01mos\u001b[39;00m\n\u001b[1;32m----> 7\u001b[0m \u001b[38;5;28;01mimport\u001b[39;00m \u001b[38;5;21;01mkeras\u001b[39;00m\n\u001b[0;32m      9\u001b[0m \u001b[38;5;28;01mfrom\u001b[39;00m \u001b[38;5;21;01mkeras\u001b[39;00m\u001b[38;5;21;01m.\u001b[39;00m\u001b[38;5;21;01mpreprocessing\u001b[39;00m\u001b[38;5;21;01m.\u001b[39;00m\u001b[38;5;21;01mimage\u001b[39;00m \u001b[38;5;28;01mimport\u001b[39;00m ImageDataGenerator\n\u001b[0;32m     10\u001b[0m \u001b[38;5;28;01mfrom\u001b[39;00m \u001b[38;5;21;01mkeras\u001b[39;00m\u001b[38;5;21;01m.\u001b[39;00m\u001b[38;5;21;01mapplications\u001b[39;00m\u001b[38;5;21;01m.\u001b[39;00m\u001b[38;5;21;01mvgg19\u001b[39;00m \u001b[38;5;28;01mimport\u001b[39;00m VGG19, preprocess_input, decode_predictions\n",
      "\u001b[1;31mModuleNotFoundError\u001b[0m: No module named 'keras'"
     ]
    }
   ],
   "source": [
    "import numpy as np\n",
    "import pandas as pd\n",
    "import matplotlib.pyplot as plt\n",
    "import os\n",
    "\n",
    "\n",
    "import keras\n",
    "\n",
    "from keras.preprocessing.image import ImageDataGenerator\n",
    "from keras.applications.vgg19 import VGG19, preprocess_input, decode_predictions\n",
    "from tensorflow.keras.utils import img_to_array,load_img"
   ]
  },
  {
   "cell_type": "code",
   "execution_count": 3,
   "metadata": {
    "colab": {
     "base_uri": "https://localhost:8080/"
    },
    "id": "_ga_ippFsJX1",
    "outputId": "48eec689-31e9-49db-f5e3-7d028779d134"
   },
   "outputs": [
    {
     "name": "stderr",
     "output_type": "stream",
     "text": [
      "'wget' is not recognized as an internal or external command,\n",
      "operable program or batch file.\n",
      "unzip:  cannot find any matches for wildcard specification \"archive.zip?dl=0\".\n",
      "\n",
      "No zipfiles found.\n"
     ]
    }
   ],
   "source": [
    "!wget https://www.dropbox.com/s/w1suleujg5da7nf/archive.zip?dl=0\n",
    "!unzip archive.zip?dl=0"
   ]
  },
  {
   "cell_type": "code",
   "execution_count": 3,
   "metadata": {
    "id": "SONFGvrBrpvK"
   },
   "outputs": [],
   "source": [
    "train_datagen = ImageDataGenerator(zoom_range=0.5, shear_range=0.3,horizontal_flip=True,preprocessing_function=preprocess_input)\n",
    "val_datagen = ImageDataGenerator( preprocessing_function=preprocess_input)"
   ]
  },
  {
   "cell_type": "code",
   "execution_count": 4,
   "metadata": {
    "colab": {
     "base_uri": "https://localhost:8080/"
    },
    "id": "1upLNnqJrwkM",
    "outputId": "58da1ae0-43bc-46ae-a365-7de4996da359"
   },
   "outputs": [
    {
     "name": "stdout",
     "output_type": "stream",
     "text": [
      "Found 70295 images belonging to 38 classes.\n",
      "Found 17572 images belonging to 38 classes.\n"
     ]
    }
   ],
   "source": [
    "train=train_datagen.flow_from_directory(directory=\"New Plant Diseases Dataset(Augmented)/New Plant Diseases Dataset(Augmented)/train\",\n",
    "                                        target_size=(256,256),\n",
    "                                        batch_size=32)\n",
    "\n",
    "val=val_datagen.flow_from_directory(directory=\"New Plant Diseases Dataset(Augmented)/New Plant Diseases Dataset(Augmented)/valid\",\n",
    "                                        target_size=(256,256),\n",
    "                                        batch_size=32)"
   ]
  },
  {
   "cell_type": "code",
   "execution_count": 5,
   "metadata": {
    "id": "HwZWzQ5gym_c"
   },
   "outputs": [],
   "source": [
    "#Buiding Model\n",
    "\n",
    "from keras.layers import Dense, Flatten\n",
    "from keras.models import Model\n",
    "from keras.applications.vgg16 import VGG16\n",
    "import keras\n"
   ]
  },
  {
   "cell_type": "code",
   "execution_count": 6,
   "metadata": {
    "colab": {
     "base_uri": "https://localhost:8080/"
    },
    "id": "xUwNK6cKy2Vd",
    "outputId": "4a1c96b8-21b6-40e8-c0cf-d1826c0be0c9"
   },
   "outputs": [
    {
     "name": "stdout",
     "output_type": "stream",
     "text": [
      "Downloading data from https://storage.googleapis.com/tensorflow/keras-applications/vgg19/vgg19_weights_tf_dim_ordering_tf_kernels_notop.h5\n",
      "80134624/80134624 [==============================] - 3s 0us/step\n"
     ]
    }
   ],
   "source": [
    "base_model=VGG19(input_shape=(256,256,3),include_top=False)"
   ]
  },
  {
   "cell_type": "code",
   "execution_count": 7,
   "metadata": {
    "id": "OqXmJgvk0UVn"
   },
   "outputs": [],
   "source": [
    "for layer in base_model.layers:\n",
    "    layer.trainable=False"
   ]
  },
  {
   "cell_type": "code",
   "execution_count": 8,
   "metadata": {
    "colab": {
     "base_uri": "https://localhost:8080/"
    },
    "id": "FvE4s9kc0XWO",
    "outputId": "cfabb86d-c382-44d4-96ae-99c66aa0705e"
   },
   "outputs": [
    {
     "name": "stdout",
     "output_type": "stream",
     "text": [
      "Model: \"vgg19\"\n",
      "_________________________________________________________________\n",
      " Layer (type)                Output Shape              Param #   \n",
      "=================================================================\n",
      " input_1 (InputLayer)        [(None, 256, 256, 3)]     0         \n",
      "                                                                 \n",
      " block1_conv1 (Conv2D)       (None, 256, 256, 64)      1792      \n",
      "                                                                 \n",
      " block1_conv2 (Conv2D)       (None, 256, 256, 64)      36928     \n",
      "                                                                 \n",
      " block1_pool (MaxPooling2D)  (None, 128, 128, 64)      0         \n",
      "                                                                 \n",
      " block2_conv1 (Conv2D)       (None, 128, 128, 128)     73856     \n",
      "                                                                 \n",
      " block2_conv2 (Conv2D)       (None, 128, 128, 128)     147584    \n",
      "                                                                 \n",
      " block2_pool (MaxPooling2D)  (None, 64, 64, 128)       0         \n",
      "                                                                 \n",
      " block3_conv1 (Conv2D)       (None, 64, 64, 256)       295168    \n",
      "                                                                 \n",
      " block3_conv2 (Conv2D)       (None, 64, 64, 256)       590080    \n",
      "                                                                 \n",
      " block3_conv3 (Conv2D)       (None, 64, 64, 256)       590080    \n",
      "                                                                 \n",
      " block3_conv4 (Conv2D)       (None, 64, 64, 256)       590080    \n",
      "                                                                 \n",
      " block3_pool (MaxPooling2D)  (None, 32, 32, 256)       0         \n",
      "                                                                 \n",
      " block4_conv1 (Conv2D)       (None, 32, 32, 512)       1180160   \n",
      "                                                                 \n",
      " block4_conv2 (Conv2D)       (None, 32, 32, 512)       2359808   \n",
      "                                                                 \n",
      " block4_conv3 (Conv2D)       (None, 32, 32, 512)       2359808   \n",
      "                                                                 \n",
      " block4_conv4 (Conv2D)       (None, 32, 32, 512)       2359808   \n",
      "                                                                 \n",
      " block4_pool (MaxPooling2D)  (None, 16, 16, 512)       0         \n",
      "                                                                 \n",
      " block5_conv1 (Conv2D)       (None, 16, 16, 512)       2359808   \n",
      "                                                                 \n",
      " block5_conv2 (Conv2D)       (None, 16, 16, 512)       2359808   \n",
      "                                                                 \n",
      " block5_conv3 (Conv2D)       (None, 16, 16, 512)       2359808   \n",
      "                                                                 \n",
      " block5_conv4 (Conv2D)       (None, 16, 16, 512)       2359808   \n",
      "                                                                 \n",
      " block5_pool (MaxPooling2D)  (None, 8, 8, 512)         0         \n",
      "                                                                 \n",
      "=================================================================\n",
      "Total params: 20,024,384\n",
      "Trainable params: 0\n",
      "Non-trainable params: 20,024,384\n",
      "_________________________________________________________________\n"
     ]
    }
   ],
   "source": [
    "base_model.summary()"
   ]
  },
  {
   "cell_type": "code",
   "execution_count": 9,
   "metadata": {
    "id": "BNTtgwr_0a_G"
   },
   "outputs": [],
   "source": [
    "X= Flatten()(base_model.output)\n",
    "\n",
    "X=Dense(units=38, activation='softmax')(X)\n",
    "\n",
    "\n",
    "\n",
    "model= Model(base_model.input,X)"
   ]
  },
  {
   "cell_type": "code",
   "execution_count": 10,
   "metadata": {
    "colab": {
     "base_uri": "https://localhost:8080/"
    },
    "id": "ZMuNdbpL0fgw",
    "outputId": "5aa59fff-8d29-406b-eb46-b7c21f14bcaf"
   },
   "outputs": [
    {
     "name": "stdout",
     "output_type": "stream",
     "text": [
      "Model: \"model\"\n",
      "_________________________________________________________________\n",
      " Layer (type)                Output Shape              Param #   \n",
      "=================================================================\n",
      " input_1 (InputLayer)        [(None, 256, 256, 3)]     0         \n",
      "                                                                 \n",
      " block1_conv1 (Conv2D)       (None, 256, 256, 64)      1792      \n",
      "                                                                 \n",
      " block1_conv2 (Conv2D)       (None, 256, 256, 64)      36928     \n",
      "                                                                 \n",
      " block1_pool (MaxPooling2D)  (None, 128, 128, 64)      0         \n",
      "                                                                 \n",
      " block2_conv1 (Conv2D)       (None, 128, 128, 128)     73856     \n",
      "                                                                 \n",
      " block2_conv2 (Conv2D)       (None, 128, 128, 128)     147584    \n",
      "                                                                 \n",
      " block2_pool (MaxPooling2D)  (None, 64, 64, 128)       0         \n",
      "                                                                 \n",
      " block3_conv1 (Conv2D)       (None, 64, 64, 256)       295168    \n",
      "                                                                 \n",
      " block3_conv2 (Conv2D)       (None, 64, 64, 256)       590080    \n",
      "                                                                 \n",
      " block3_conv3 (Conv2D)       (None, 64, 64, 256)       590080    \n",
      "                                                                 \n",
      " block3_conv4 (Conv2D)       (None, 64, 64, 256)       590080    \n",
      "                                                                 \n",
      " block3_pool (MaxPooling2D)  (None, 32, 32, 256)       0         \n",
      "                                                                 \n",
      " block4_conv1 (Conv2D)       (None, 32, 32, 512)       1180160   \n",
      "                                                                 \n",
      " block4_conv2 (Conv2D)       (None, 32, 32, 512)       2359808   \n",
      "                                                                 \n",
      " block4_conv3 (Conv2D)       (None, 32, 32, 512)       2359808   \n",
      "                                                                 \n",
      " block4_conv4 (Conv2D)       (None, 32, 32, 512)       2359808   \n",
      "                                                                 \n",
      " block4_pool (MaxPooling2D)  (None, 16, 16, 512)       0         \n",
      "                                                                 \n",
      " block5_conv1 (Conv2D)       (None, 16, 16, 512)       2359808   \n",
      "                                                                 \n",
      " block5_conv2 (Conv2D)       (None, 16, 16, 512)       2359808   \n",
      "                                                                 \n",
      " block5_conv3 (Conv2D)       (None, 16, 16, 512)       2359808   \n",
      "                                                                 \n",
      " block5_conv4 (Conv2D)       (None, 16, 16, 512)       2359808   \n",
      "                                                                 \n",
      " block5_pool (MaxPooling2D)  (None, 8, 8, 512)         0         \n",
      "                                                                 \n",
      " flatten (Flatten)           (None, 32768)             0         \n",
      "                                                                 \n",
      " dense (Dense)               (None, 38)                1245222   \n",
      "                                                                 \n",
      "=================================================================\n",
      "Total params: 21,269,606\n",
      "Trainable params: 1,245,222\n",
      "Non-trainable params: 20,024,384\n",
      "_________________________________________________________________\n"
     ]
    }
   ],
   "source": [
    "model.summary()"
   ]
  },
  {
   "cell_type": "code",
   "execution_count": null,
   "metadata": {
    "id": "L1VRfJrY5nRj"
   },
   "outputs": [],
   "source": []
  },
  {
   "cell_type": "code",
   "execution_count": null,
   "metadata": {
    "id": "31OzbWD654A7"
   },
   "outputs": [],
   "source": []
  },
  {
   "cell_type": "code",
   "execution_count": 11,
   "metadata": {
    "id": "l0Nhqku70k0Y"
   },
   "outputs": [],
   "source": [
    "model.compile(optimizer='adam', loss=keras.losses.categorical_crossentropy,metrics=['accuracy'])"
   ]
  },
  {
   "cell_type": "code",
   "execution_count": 14,
   "metadata": {
    "id": "VqUsi2Lc0mgA"
   },
   "outputs": [],
   "source": [
    "# Early Stopping\n",
    "\n",
    "from keras.callbacks import ModelCheckpoint, EarlyStopping\n",
    "\n",
    "es = EarlyStopping(monitor='val_accuracy',patience=3, verbose=1,min_delta=0.01)\n",
    "\n",
    "mc = ModelCheckpoint(filepath=\"best1_model.h5\", monitor='val_accuracy',verbose=1,save_best_only=True,min_delta=0.01,patience=3)\n",
    "\n",
    "cb = [ mc]"
   ]
  },
  {
   "cell_type": "code",
   "execution_count": 15,
   "metadata": {
    "colab": {
     "base_uri": "https://localhost:8080/"
    },
    "id": "o6w5qRWK02ub",
    "outputId": "cc57af30-3c2f-4ed3-b3f6-e62200ff6d75"
   },
   "outputs": [
    {
     "name": "stderr",
     "output_type": "stream",
     "text": [
      "<ipython-input-15-62cb9371d0fc>:1: UserWarning: `Model.fit_generator` is deprecated and will be removed in a future version. Please use `Model.fit`, which supports generators.\n",
      "  his= model.fit_generator(train,steps_per_epoch=16,epochs= 50, verbose=1, callbacks=cb, validation_data=val, validation_steps=16)\n"
     ]
    },
    {
     "name": "stdout",
     "output_type": "stream",
     "text": [
      "Epoch 1/50\n",
      "16/16 [==============================] - ETA: 0s - loss: 9.4762 - accuracy: 0.6797\n",
      "Epoch 1: val_accuracy improved from -inf to 0.80273, saving model to best1_model.h5\n",
      "16/16 [==============================] - 14s 893ms/step - loss: 9.4762 - accuracy: 0.6797 - val_loss: 5.0680 - val_accuracy: 0.8027\n",
      "Epoch 2/50\n",
      "16/16 [==============================] - ETA: 0s - loss: 9.1320 - accuracy: 0.6758\n",
      "Epoch 2: val_accuracy improved from 0.80273 to 0.81836, saving model to best1_model.h5\n",
      "16/16 [==============================] - 16s 1s/step - loss: 9.1320 - accuracy: 0.6758 - val_loss: 6.0366 - val_accuracy: 0.8184\n",
      "Epoch 3/50\n",
      "16/16 [==============================] - ETA: 0s - loss: 7.7570 - accuracy: 0.7109\n",
      "Epoch 3: val_accuracy did not improve from 0.81836\n",
      "16/16 [==============================] - 15s 972ms/step - loss: 7.7570 - accuracy: 0.7109 - val_loss: 7.3479 - val_accuracy: 0.7695\n",
      "Epoch 4/50\n",
      "16/16 [==============================] - ETA: 0s - loss: 9.6357 - accuracy: 0.7109\n",
      "Epoch 4: val_accuracy did not improve from 0.81836\n",
      "16/16 [==============================] - 14s 894ms/step - loss: 9.6357 - accuracy: 0.7109 - val_loss: 7.7132 - val_accuracy: 0.7754\n",
      "Epoch 5/50\n",
      "16/16 [==============================] - ETA: 0s - loss: 6.3171 - accuracy: 0.7812\n",
      "Epoch 5: val_accuracy did not improve from 0.81836\n",
      "16/16 [==============================] - 15s 910ms/step - loss: 6.3171 - accuracy: 0.7812 - val_loss: 6.9736 - val_accuracy: 0.7812\n",
      "Epoch 6/50\n",
      "16/16 [==============================] - ETA: 0s - loss: 7.4012 - accuracy: 0.7402\n",
      "Epoch 6: val_accuracy did not improve from 0.81836\n",
      "16/16 [==============================] - 16s 985ms/step - loss: 7.4012 - accuracy: 0.7402 - val_loss: 7.6941 - val_accuracy: 0.7754\n",
      "Epoch 7/50\n",
      "16/16 [==============================] - ETA: 0s - loss: 7.2437 - accuracy: 0.7539\n",
      "Epoch 7: val_accuracy improved from 0.81836 to 0.82031, saving model to best1_model.h5\n",
      "16/16 [==============================] - 16s 1s/step - loss: 7.2437 - accuracy: 0.7539 - val_loss: 5.7293 - val_accuracy: 0.8203\n",
      "Epoch 8/50\n",
      "16/16 [==============================] - ETA: 0s - loss: 8.0050 - accuracy: 0.7793\n",
      "Epoch 8: val_accuracy did not improve from 0.82031\n",
      "16/16 [==============================] - 14s 857ms/step - loss: 8.0050 - accuracy: 0.7793 - val_loss: 5.8729 - val_accuracy: 0.8066\n",
      "Epoch 9/50\n",
      "16/16 [==============================] - ETA: 0s - loss: 9.2727 - accuracy: 0.7285\n",
      "Epoch 9: val_accuracy did not improve from 0.82031\n",
      "16/16 [==============================] - 16s 996ms/step - loss: 9.2727 - accuracy: 0.7285 - val_loss: 5.1840 - val_accuracy: 0.8164\n",
      "Epoch 10/50\n",
      "16/16 [==============================] - ETA: 0s - loss: 8.2514 - accuracy: 0.7441\n",
      "Epoch 10: val_accuracy did not improve from 0.82031\n",
      "16/16 [==============================] - 15s 900ms/step - loss: 8.2514 - accuracy: 0.7441 - val_loss: 7.5933 - val_accuracy: 0.7969\n",
      "Epoch 11/50\n",
      "16/16 [==============================] - ETA: 0s - loss: 7.6838 - accuracy: 0.7480\n",
      "Epoch 11: val_accuracy did not improve from 0.82031\n",
      "16/16 [==============================] - 15s 922ms/step - loss: 7.6838 - accuracy: 0.7480 - val_loss: 5.7382 - val_accuracy: 0.8105\n",
      "Epoch 12/50\n",
      "16/16 [==============================] - ETA: 0s - loss: 10.9551 - accuracy: 0.7344\n",
      "Epoch 12: val_accuracy did not improve from 0.82031\n",
      "16/16 [==============================] - 15s 955ms/step - loss: 10.9551 - accuracy: 0.7344 - val_loss: 6.1621 - val_accuracy: 0.8086\n",
      "Epoch 13/50\n",
      "16/16 [==============================] - ETA: 0s - loss: 7.9478 - accuracy: 0.7715\n",
      "Epoch 13: val_accuracy did not improve from 0.82031\n",
      "16/16 [==============================] - 15s 984ms/step - loss: 7.9478 - accuracy: 0.7715 - val_loss: 8.9997 - val_accuracy: 0.7852\n",
      "Epoch 14/50\n",
      "16/16 [==============================] - ETA: 0s - loss: 9.8577 - accuracy: 0.7441 \n",
      "Epoch 14: val_accuracy improved from 0.82031 to 0.83203, saving model to best1_model.h5\n",
      "16/16 [==============================] - 14s 873ms/step - loss: 9.8577 - accuracy: 0.7441 - val_loss: 5.3320 - val_accuracy: 0.8320\n",
      "Epoch 15/50\n",
      "16/16 [==============================] - ETA: 0s - loss: 6.4974 - accuracy: 0.8027\n",
      "Epoch 15: val_accuracy did not improve from 0.83203\n",
      "16/16 [==============================] - 13s 810ms/step - loss: 6.4974 - accuracy: 0.8027 - val_loss: 7.1875 - val_accuracy: 0.8203\n",
      "Epoch 16/50\n",
      "16/16 [==============================] - ETA: 0s - loss: 5.6283 - accuracy: 0.7773\n",
      "Epoch 16: val_accuracy improved from 0.83203 to 0.83789, saving model to best1_model.h5\n",
      "16/16 [==============================] - 16s 1s/step - loss: 5.6283 - accuracy: 0.7773 - val_loss: 5.6136 - val_accuracy: 0.8379\n",
      "Epoch 17/50\n",
      "16/16 [==============================] - ETA: 0s - loss: 5.4857 - accuracy: 0.8066\n",
      "Epoch 17: val_accuracy improved from 0.83789 to 0.83984, saving model to best1_model.h5\n",
      "16/16 [==============================] - 14s 863ms/step - loss: 5.4857 - accuracy: 0.8066 - val_loss: 6.1654 - val_accuracy: 0.8398\n",
      "Epoch 18/50\n",
      "16/16 [==============================] - ETA: 0s - loss: 7.7231 - accuracy: 0.7695\n",
      "Epoch 18: val_accuracy did not improve from 0.83984\n",
      "16/16 [==============================] - 14s 832ms/step - loss: 7.7231 - accuracy: 0.7695 - val_loss: 5.4172 - val_accuracy: 0.8320\n",
      "Epoch 19/50\n",
      "16/16 [==============================] - ETA: 0s - loss: 7.9758 - accuracy: 0.7852\n",
      "Epoch 19: val_accuracy improved from 0.83984 to 0.85547, saving model to best1_model.h5\n",
      "16/16 [==============================] - 16s 1s/step - loss: 7.9758 - accuracy: 0.7852 - val_loss: 4.6244 - val_accuracy: 0.8555\n",
      "Epoch 20/50\n",
      "16/16 [==============================] - ETA: 0s - loss: 7.6791 - accuracy: 0.8203\n",
      "Epoch 20: val_accuracy did not improve from 0.85547\n",
      "16/16 [==============================] - 16s 993ms/step - loss: 7.6791 - accuracy: 0.8203 - val_loss: 5.4660 - val_accuracy: 0.8457\n",
      "Epoch 21/50\n",
      "16/16 [==============================] - ETA: 0s - loss: 7.3522 - accuracy: 0.7871\n",
      "Epoch 21: val_accuracy did not improve from 0.85547\n",
      "16/16 [==============================] - 14s 873ms/step - loss: 7.3522 - accuracy: 0.7871 - val_loss: 4.9840 - val_accuracy: 0.8418\n",
      "Epoch 22/50\n",
      "16/16 [==============================] - ETA: 0s - loss: 6.1460 - accuracy: 0.8262\n",
      "Epoch 22: val_accuracy did not improve from 0.85547\n",
      "16/16 [==============================] - 16s 999ms/step - loss: 6.1460 - accuracy: 0.8262 - val_loss: 5.0722 - val_accuracy: 0.8262\n",
      "Epoch 23/50\n",
      "16/16 [==============================] - ETA: 0s - loss: 7.1904 - accuracy: 0.8242\n",
      "Epoch 23: val_accuracy improved from 0.85547 to 0.85742, saving model to best1_model.h5\n",
      "16/16 [==============================] - 16s 966ms/step - loss: 7.1904 - accuracy: 0.8242 - val_loss: 4.4341 - val_accuracy: 0.8574\n",
      "Epoch 24/50\n",
      "16/16 [==============================] - ETA: 0s - loss: 4.6645 - accuracy: 0.8379\n",
      "Epoch 24: val_accuracy did not improve from 0.85742\n",
      "16/16 [==============================] - 16s 996ms/step - loss: 4.6645 - accuracy: 0.8379 - val_loss: 7.2065 - val_accuracy: 0.8223\n",
      "Epoch 25/50\n",
      "16/16 [==============================] - ETA: 0s - loss: 7.0512 - accuracy: 0.8066\n",
      "Epoch 25: val_accuracy did not improve from 0.85742\n",
      "16/16 [==============================] - 15s 972ms/step - loss: 7.0512 - accuracy: 0.8066 - val_loss: 7.4644 - val_accuracy: 0.8184\n",
      "Epoch 26/50\n",
      "16/16 [==============================] - ETA: 0s - loss: 8.5168 - accuracy: 0.7871\n",
      "Epoch 26: val_accuracy did not improve from 0.85742\n",
      "16/16 [==============================] - 15s 979ms/step - loss: 8.5168 - accuracy: 0.7871 - val_loss: 5.2389 - val_accuracy: 0.8516\n",
      "Epoch 27/50\n",
      "16/16 [==============================] - ETA: 0s - loss: 8.2609 - accuracy: 0.7988\n",
      "Epoch 27: val_accuracy improved from 0.85742 to 0.89844, saving model to best1_model.h5\n",
      "16/16 [==============================] - 14s 858ms/step - loss: 8.2609 - accuracy: 0.7988 - val_loss: 3.5884 - val_accuracy: 0.8984\n",
      "Epoch 28/50\n",
      "16/16 [==============================] - ETA: 0s - loss: 6.4329 - accuracy: 0.8086\n",
      "Epoch 28: val_accuracy did not improve from 0.89844\n",
      "16/16 [==============================] - 14s 888ms/step - loss: 6.4329 - accuracy: 0.8086 - val_loss: 5.1807 - val_accuracy: 0.8242\n",
      "Epoch 29/50\n",
      "16/16 [==============================] - ETA: 0s - loss: 6.8830 - accuracy: 0.8027\n",
      "Epoch 29: val_accuracy did not improve from 0.89844\n",
      "16/16 [==============================] - 15s 980ms/step - loss: 6.8830 - accuracy: 0.8027 - val_loss: 3.6951 - val_accuracy: 0.8730\n",
      "Epoch 30/50\n",
      "16/16 [==============================] - ETA: 0s - loss: 6.9213 - accuracy: 0.8047\n",
      "Epoch 30: val_accuracy did not improve from 0.89844\n",
      "16/16 [==============================] - 14s 858ms/step - loss: 6.9213 - accuracy: 0.8047 - val_loss: 4.7585 - val_accuracy: 0.8730\n",
      "Epoch 31/50\n",
      "16/16 [==============================] - ETA: 0s - loss: 6.1268 - accuracy: 0.8281\n",
      "Epoch 31: val_accuracy did not improve from 0.89844\n",
      "16/16 [==============================] - 14s 858ms/step - loss: 6.1268 - accuracy: 0.8281 - val_loss: 3.6355 - val_accuracy: 0.8711\n",
      "Epoch 32/50\n",
      "16/16 [==============================] - ETA: 0s - loss: 8.5223 - accuracy: 0.7832\n",
      "Epoch 32: val_accuracy did not improve from 0.89844\n",
      "16/16 [==============================] - 15s 983ms/step - loss: 8.5223 - accuracy: 0.7832 - val_loss: 5.7517 - val_accuracy: 0.8594\n",
      "Epoch 33/50\n",
      "16/16 [==============================] - ETA: 0s - loss: 5.8209 - accuracy: 0.8418\n",
      "Epoch 33: val_accuracy did not improve from 0.89844\n",
      "16/16 [==============================] - 15s 983ms/step - loss: 5.8209 - accuracy: 0.8418 - val_loss: 4.7792 - val_accuracy: 0.8789\n",
      "Epoch 34/50\n",
      "16/16 [==============================] - ETA: 0s - loss: 8.0905 - accuracy: 0.8105\n",
      "Epoch 34: val_accuracy did not improve from 0.89844\n",
      "16/16 [==============================] - 15s 973ms/step - loss: 8.0905 - accuracy: 0.8105 - val_loss: 3.9105 - val_accuracy: 0.8887\n",
      "Epoch 35/50\n",
      "16/16 [==============================] - ETA: 0s - loss: 5.7972 - accuracy: 0.8438\n",
      "Epoch 35: val_accuracy did not improve from 0.89844\n",
      "16/16 [==============================] - 14s 904ms/step - loss: 5.7972 - accuracy: 0.8438 - val_loss: 5.1387 - val_accuracy: 0.8750\n",
      "Epoch 36/50\n",
      "16/16 [==============================] - ETA: 0s - loss: 7.1796 - accuracy: 0.8301\n",
      "Epoch 36: val_accuracy did not improve from 0.89844\n",
      "16/16 [==============================] - 15s 965ms/step - loss: 7.1796 - accuracy: 0.8301 - val_loss: 5.5715 - val_accuracy: 0.8359\n",
      "Epoch 37/50\n",
      "16/16 [==============================] - ETA: 0s - loss: 6.6195 - accuracy: 0.8320\n",
      "Epoch 37: val_accuracy did not improve from 0.89844\n",
      "16/16 [==============================] - 13s 795ms/step - loss: 6.6195 - accuracy: 0.8320 - val_loss: 6.0229 - val_accuracy: 0.8594\n",
      "Epoch 38/50\n",
      "16/16 [==============================] - ETA: 0s - loss: 6.2431 - accuracy: 0.8223\n",
      "Epoch 38: val_accuracy did not improve from 0.89844\n",
      "16/16 [==============================] - 15s 939ms/step - loss: 6.2431 - accuracy: 0.8223 - val_loss: 4.8746 - val_accuracy: 0.8691\n",
      "Epoch 39/50\n",
      "16/16 [==============================] - ETA: 0s - loss: 7.2357 - accuracy: 0.8535\n",
      "Epoch 39: val_accuracy did not improve from 0.89844\n",
      "16/16 [==============================] - 14s 890ms/step - loss: 7.2357 - accuracy: 0.8535 - val_loss: 4.9055 - val_accuracy: 0.8633\n",
      "Epoch 40/50\n",
      "16/16 [==============================] - ETA: 0s - loss: 7.1495 - accuracy: 0.8164\n",
      "Epoch 40: val_accuracy did not improve from 0.89844\n",
      "16/16 [==============================] - 13s 837ms/step - loss: 7.1495 - accuracy: 0.8164 - val_loss: 5.6253 - val_accuracy: 0.8574\n",
      "Epoch 41/50\n",
      "16/16 [==============================] - ETA: 0s - loss: 6.9020 - accuracy: 0.8340\n",
      "Epoch 41: val_accuracy did not improve from 0.89844\n",
      "16/16 [==============================] - 15s 974ms/step - loss: 6.9020 - accuracy: 0.8340 - val_loss: 4.1995 - val_accuracy: 0.8789\n",
      "Epoch 42/50\n",
      "16/16 [==============================] - ETA: 0s - loss: 7.0817 - accuracy: 0.8301\n",
      "Epoch 42: val_accuracy did not improve from 0.89844\n",
      "16/16 [==============================] - 13s 840ms/step - loss: 7.0817 - accuracy: 0.8301 - val_loss: 4.7646 - val_accuracy: 0.8867\n",
      "Epoch 43/50\n",
      "16/16 [==============================] - ETA: 0s - loss: 8.3039 - accuracy: 0.8105\n",
      "Epoch 43: val_accuracy did not improve from 0.89844\n",
      "16/16 [==============================] - 15s 954ms/step - loss: 8.3039 - accuracy: 0.8105 - val_loss: 6.3086 - val_accuracy: 0.8613\n",
      "Epoch 44/50\n",
      "16/16 [==============================] - ETA: 0s - loss: 7.1388 - accuracy: 0.8262\n",
      "Epoch 44: val_accuracy did not improve from 0.89844\n",
      "16/16 [==============================] - 15s 968ms/step - loss: 7.1388 - accuracy: 0.8262 - val_loss: 5.0848 - val_accuracy: 0.8789\n",
      "Epoch 45/50\n",
      "16/16 [==============================] - ETA: 0s - loss: 7.0786 - accuracy: 0.8203\n",
      "Epoch 45: val_accuracy did not improve from 0.89844\n",
      "16/16 [==============================] - 15s 897ms/step - loss: 7.0786 - accuracy: 0.8203 - val_loss: 6.2560 - val_accuracy: 0.8770\n",
      "Epoch 46/50\n",
      "16/16 [==============================] - ETA: 0s - loss: 5.9148 - accuracy: 0.8594\n",
      "Epoch 46: val_accuracy did not improve from 0.89844\n",
      "16/16 [==============================] - 13s 790ms/step - loss: 5.9148 - accuracy: 0.8594 - val_loss: 4.0013 - val_accuracy: 0.8945\n",
      "Epoch 47/50\n",
      "16/16 [==============================] - ETA: 0s - loss: 7.1002 - accuracy: 0.8398\n",
      "Epoch 47: val_accuracy did not improve from 0.89844\n",
      "16/16 [==============================] - 13s 851ms/step - loss: 7.1002 - accuracy: 0.8398 - val_loss: 5.4755 - val_accuracy: 0.8848\n",
      "Epoch 48/50\n",
      "16/16 [==============================] - ETA: 0s - loss: 6.2114 - accuracy: 0.8418\n",
      "Epoch 48: val_accuracy did not improve from 0.89844\n",
      "16/16 [==============================] - 15s 975ms/step - loss: 6.2114 - accuracy: 0.8418 - val_loss: 4.2169 - val_accuracy: 0.8848\n",
      "Epoch 49/50\n",
      "16/16 [==============================] - ETA: 0s - loss: 5.9867 - accuracy: 0.8535\n",
      "Epoch 49: val_accuracy did not improve from 0.89844\n",
      "16/16 [==============================] - 15s 949ms/step - loss: 5.9867 - accuracy: 0.8535 - val_loss: 7.2868 - val_accuracy: 0.8574\n",
      "Epoch 50/50\n",
      "16/16 [==============================] - ETA: 0s - loss: 7.3796 - accuracy: 0.8379\n",
      "Epoch 50: val_accuracy did not improve from 0.89844\n",
      "16/16 [==============================] - 15s 968ms/step - loss: 7.3796 - accuracy: 0.8379 - val_loss: 5.2819 - val_accuracy: 0.8828\n"
     ]
    }
   ],
   "source": [
    "his= model.fit_generator(train,steps_per_epoch=16,epochs= 50, verbose=1, callbacks=cb, validation_data=val, validation_steps=16)"
   ]
  },
  {
   "cell_type": "code",
   "execution_count": 16,
   "metadata": {
    "colab": {
     "base_uri": "https://localhost:8080/"
    },
    "id": "kUrl1xjn1u-Q",
    "outputId": "ce4f252c-9501-4513-f883-0bd9594c78b2"
   },
   "outputs": [
    {
     "data": {
      "text/plain": [
       "dict_keys(['loss', 'accuracy', 'val_loss', 'val_accuracy'])"
      ]
     },
     "execution_count": 16,
     "metadata": {},
     "output_type": "execute_result"
    }
   ],
   "source": [
    "h=his.history\n",
    "h.keys()\n"
   ]
  },
  {
   "cell_type": "code",
   "execution_count": 17,
   "metadata": {
    "colab": {
     "base_uri": "https://localhost:8080/",
     "height": 452
    },
    "id": "fO-MwVon10Q4",
    "outputId": "3e9fa5b3-b519-4732-e14c-fa14456ed4df"
   },
   "outputs": [
    {
     "data": {
      "image/png": "[encoded data removed]",
      "text/plain": [
       "<Figure size 640x480 with 1 Axes>"
      ]
     },
     "metadata": {},
     "output_type": "display_data"
    }
   ],
   "source": [
    "plt.plot(h['accuracy'])\n",
    "plt.plot(h['val_accuracy'],c=\"red\")\n",
    "plt.title(['acc vs v-acc'])\n",
    "plt.show()"
   ]
  },
  {
   "cell_type": "code",
   "execution_count": 18,
   "metadata": {
    "colab": {
     "base_uri": "https://localhost:8080/",
     "height": 452
    },
    "id": "r2IeE9pz2GNS",
    "outputId": "bc0d4e11-9c8d-4939-b1a6-3022418240c5"
   },
   "outputs": [
    {
     "data": {
      "image/png": "[encoded data removed]",
      "text/plain": [
       "<Figure size 640x480 with 1 Axes>"
      ]
     },
     "metadata": {},
     "output_type": "display_data"
    }
   ],
   "source": [
    "plt.plot(h['loss'])\n",
    "plt.plot(h['val_loss'],c=\"red\")\n",
    "plt.title(['loss vs v-loss'])\n",
    "plt.show()"
   ]
  },
  {
   "cell_type": "code",
   "execution_count": 7,
   "metadata": {
    "id": "4HecLvJw2KCr"
   },
   "outputs": [
    {
     "ename": "ModuleNotFoundError",
     "evalue": "No module named 'keras'",
     "output_type": "error",
     "traceback": [
      "\u001b[1;31m---------------------------------------------------------------------------\u001b[0m",
      "\u001b[1;31mModuleNotFoundError\u001b[0m                       Traceback (most recent call last)",
      "Cell \u001b[1;32mIn[7], line 3\u001b[0m\n\u001b[0;32m      1\u001b[0m \u001b[38;5;66;03m#load best model\u001b[39;00m\n\u001b[1;32m----> 3\u001b[0m \u001b[38;5;28;01mfrom\u001b[39;00m \u001b[38;5;21;01mkeras\u001b[39;00m\u001b[38;5;21;01m.\u001b[39;00m\u001b[38;5;21;01mmodels\u001b[39;00m \u001b[38;5;28;01mimport\u001b[39;00m load_model\n\u001b[0;32m      5\u001b[0m model\u001b[38;5;241m=\u001b[39mload_model(\u001b[38;5;124m\"\u001b[39m\u001b[38;5;124mC:\u001b[39m\u001b[38;5;130;01m\\\\\u001b[39;00m\u001b[38;5;124mUsers\u001b[39m\u001b[38;5;130;01m\\\\\u001b[39;00m\u001b[38;5;124mBiswarup Mistry\u001b[39m\u001b[38;5;130;01m\\\\\u001b[39;00m\u001b[38;5;124mDownloads\u001b[39m\u001b[38;5;130;01m\\\\\u001b[39;00m\u001b[38;5;124mbest2_model.h5\u001b[39m\u001b[38;5;124m\"\u001b[39m)\n",
      "\u001b[1;31mModuleNotFoundError\u001b[0m: No module named 'keras'"
     ]
    }
   ],
   "source": [
    "#load best model\n",
    "\n",
    "from keras.models import load_model\n",
    "\n",
    "model=load_model(\"C:\\\\Users\\\\Biswarup Mistry\\\\Downloads\\\\best2_model.h5\")"
   ]
  },
  {
   "cell_type": "code",
   "execution_count": 20,
   "metadata": {
    "colab": {
     "base_uri": "https://localhost:8080/"
    },
    "id": "TMWhl41r2keA",
    "outputId": "2205fd4c-e7ef-43c9-fb3f-9c7125dbbeea"
   },
   "outputs": [
    {
     "name": "stderr",
     "output_type": "stream",
     "text": [
      "<ipython-input-20-48346601b78f>:1: UserWarning: `Model.evaluate_generator` is deprecated and will be removed in a future version. Please use `Model.evaluate`, which supports generators.\n",
      "  acc= model.evaluate_generator(val)[1]\n"
     ]
    },
    {
     "name": "stdout",
     "output_type": "stream",
     "text": [
      "86.19394302368164\n"
     ]
    }
   ],
   "source": [
    "acc= model.evaluate_generator(val)[1]\n",
    "\n",
    "print(acc*100)"
   ]
  },
  {
   "cell_type": "code",
   "execution_count": 21,
   "metadata": {
    "colab": {
     "base_uri": "https://localhost:8080/"
    },
    "id": "pS6b92zW327_",
    "outputId": "94fb45bb-b912-487a-e3c7-f0a94ddbf4a2"
   },
   "outputs": [
    {
     "name": "stdout",
     "output_type": "stream",
     "text": [
      "{0: 'Apple___Apple_scab', 1: 'Apple___Black_rot', 2: 'Apple___Cedar_apple_rust', 3: 'Apple___healthy', 4: 'Blueberry___healthy', 5: 'Cherry_(including_sour)___Powdery_mildew', 6: 'Cherry_(including_sour)___healthy', 7: 'Corn_(maize)___Cercospora_leaf_spot Gray_leaf_spot', 8: 'Corn_(maize)___Common_rust_', 9: 'Corn_(maize)___Northern_Leaf_Blight', 10: 'Corn_(maize)___healthy', 11: 'Grape___Black_rot', 12: 'Grape___Esca_(Black_Measles)', 13: 'Grape___Leaf_blight_(Isariopsis_Leaf_Spot)', 14: 'Grape___healthy', 15: 'Orange___Haunglongbing_(Citrus_greening)', 16: 'Peach___Bacterial_spot', 17: 'Peach___healthy', 18: 'Pepper,_bell___Bacterial_spot', 19: 'Pepper,_bell___healthy', 20: 'Potato___Early_blight', 21: 'Potato___Late_blight', 22: 'Potato___healthy', 23: 'Raspberry___healthy', 24: 'Soybean___healthy', 25: 'Squash___Powdery_mildew', 26: 'Strawberry___Leaf_scorch', 27: 'Strawberry___healthy', 28: 'Tomato___Bacterial_spot', 29: 'Tomato___Early_blight', 30: 'Tomato___Late_blight', 31: 'Tomato___Leaf_Mold', 32: 'Tomato___Septoria_leaf_spot', 33: 'Tomato___Spider_mites Two-spotted_spider_mite', 34: 'Tomato___Target_Spot', 35: 'Tomato___Tomato_Yellow_Leaf_Curl_Virus', 36: 'Tomato___Tomato_mosaic_virus', 37: 'Tomato___healthy'}\n"
     ]
    }
   ],
   "source": [
    "ref= dict(zip(list(train.class_indices.values()), list(train.class_indices.keys())))\n",
    "print(ref)"
   ]
  },
  {
   "cell_type": "code",
   "execution_count": 22,
   "metadata": {
    "id": "G21csdvk4AuJ"
   },
   "outputs": [],
   "source": [
    "def predict(path):\n",
    "\n",
    "    img=load_img(path,target_size=(256,256))\n",
    "\n",
    "    i=img_to_array(img)\n",
    "\n",
    "    im=preprocess_input(i)\n",
    "\n",
    "    img=np.expand_dims(im,axis=0)\n",
    "\n",
    "    pred=np.argmax(model.predict(img))\n",
    "\n",
    "    print(f\"the image belongs to {ref[pred]}\")"
   ]
  },
  {
   "cell_type": "code",
   "execution_count": 23,
   "metadata": {
    "colab": {
     "base_uri": "https://localhost:8080/"
    },
    "id": "6dVxa6334Fop",
    "outputId": "fe005cb9-0a45-40cd-c88f-bb9f69dc902c"
   },
   "outputs": [
    {
     "name": "stdout",
     "output_type": "stream",
     "text": [
      "1/1 [==============================] - 1s 758ms/step\n",
      "the image belongs to Corn_(maize)___Common_rust_\n"
     ]
    }
   ],
   "source": [
    "path=\"test/test/CornCommonRust3.JPG\"\n",
    "\n",
    "predict(path)"
   ]
  },
  {
   "cell_type": "code",
   "execution_count": 24,
   "metadata": {
    "colab": {
     "base_uri": "https://localhost:8080/"
    },
    "id": "tamNYjuN57wu",
    "outputId": "a733c951-e536-4883-c9d2-d5f29d70a215"
   },
   "outputs": [
    {
     "name": "stdout",
     "output_type": "stream",
     "text": [
      "Mounted at /content/drive\n"
     ]
    }
   ],
   "source": [
    "from google.colab import drive\n",
    "drive.mount('/content/drive')"
   ]
  },
  {
   "cell_type": "code",
   "execution_count": 25,
   "metadata": {
    "id": "zMl-nhe46EX_"
   },
   "outputs": [],
   "source": [
    "model.save('/content/drive/MyDrive/models/best2_model.h5')\n"
   ]
  },
  {
   "cell_type": "code",
   "execution_count": null,
   "metadata": {
    "colab": {
     "base_uri": "https://localhost:8080/"
    },
    "id": "iE08gXGA71HB",
    "outputId": "ba5e8184-4129-4941-99be-247c34ae9182"
   },
   "outputs": [
    {
     "name": "stderr",
     "output_type": "stream",
     "text": [
      "WARNING:absl:Found untraced functions such as _jit_compiled_convolution_op, _jit_compiled_convolution_op, _jit_compiled_convolution_op, _jit_compiled_convolution_op, _jit_compiled_convolution_op while saving (showing 5 of 17). These functions will not be directly callable after loading.\n"
     ]
    }
   ],
   "source": [
    "import tensorflow as tf\n",
    "\n",
    "# Load the h5 model\n",
    "model = tf.keras.models.load_model('/content/drive/MyDrive/models/best1_model.h5')\n",
    "\n",
    "# Convert the model to TFLite format\n",
    "converter = tf.lite.TFLiteConverter.from_keras_model(model)\n",
    "tflite_model = converter.convert()\n",
    "\n",
    "# Save the TFLite model\n",
    "with open('/content/drive/MyDrive/models/model.tflite', 'wb') as f:\n",
    "    f.write(tflite_model)"
   ]
  }
 ],
 "metadata": {
  "accelerator": "GPU",
  "colab": {
   "gpuType": "T4",
   "provenance": []
  },
  "kernelspec": {
   "display_name": "Python 3 (ipykernel)",
   "language": "python",
   "name": "python3"
  },
  "language_info": {
   "codemirror_mode": {
    "name": "ipython",
    "version": 3
   },
   "file_extension": ".py",
   "mimetype": "text/x-python",
   "name": "python",
   "nbconvert_exporter": "python",
   "pygments_lexer": "ipython3",
   "version": "3.10.9"
  }
 },
 "nbformat": 4,
 "nbformat_minor": 1
}
