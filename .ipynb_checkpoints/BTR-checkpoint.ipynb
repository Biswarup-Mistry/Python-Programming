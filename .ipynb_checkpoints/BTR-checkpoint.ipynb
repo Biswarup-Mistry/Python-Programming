{
 "cells": [
  {
   "cell_type": "code",
   "execution_count": 158,
   "id": "c071d50b",
   "metadata": {},
   "outputs": [
    {
     "name": "stdout",
     "output_type": "stream",
     "text": [
      "5:27:23\n"
     ]
    }
   ],
   "source": [
    "import pandas as pd\n",
    "from datetime import datetime, timedelta\n",
    "\n",
    "bt = timedelta(hours=10, minutes=35, seconds=0)\n",
    "isht = bt - timedelta(hours=5, minutes=7, seconds=37)\n",
    "#print(isht.seconds)\n",
    "ist=str(isht)\n",
    "print(ist)\n",
    "#print(ist)\n",
    "#print()"
   ]
  },
  {
   "cell_type": "code",
   "execution_count": 152,
   "id": "a261d0fb",
   "metadata": {},
   "outputs": [],
   "source": [
    "H=isht.seconds//3600 \n",
    "M=(isht.seconds//60)%60\n",
    "S=isht.seconds%60"
   ]
  },
  {
   "cell_type": "code",
   "execution_count": 153,
   "id": "24b270fe",
   "metadata": {},
   "outputs": [],
   "source": [
    "def increase_float(num):\n",
    "    int_part = int(num)\n",
    "    frac_part = num - int_part\n",
    "    \n",
    "    if frac_part >= 0.5:\n",
    "        int_part += 1\n",
    "    \n",
    "    return int_part"
   ]
  },
  {
   "cell_type": "code",
   "execution_count": 154,
   "id": "fc0baa39",
   "metadata": {},
   "outputs": [
    {
     "name": "stdout",
     "output_type": "stream",
     "text": [
      "3273.833272\n",
      "3274\n"
     ]
    }
   ],
   "source": [
    "v=(H*150)+(M*2.5)+(S*0.041666)\n",
    "#print(v)\n",
    "num=v*4\n",
    "print(num)\n",
    "i=increase_float(num)\n",
    "print(i)"
   ]
  },
  {
   "cell_type": "code",
   "execution_count": 155,
   "id": "188ef693",
   "metadata": {},
   "outputs": [
    {
     "name": "stdout",
     "output_type": "stream",
     "text": [
      "5\n",
      "27\n",
      "29\n"
     ]
    }
   ],
   "source": [
    "#i=3224\n",
    "if (i%9<8):\n",
    "    if (i%9!=8):\n",
    "        j=i+(8-i%9)\n",
    "        #print(i)\n",
    "        h=int(j/600)\n",
    "        print(h)\n",
    "        #m=int((i%600)*60)\n",
    "        m=(((j/600)-int(j/600))*60)\n",
    "        s=int((m-int(m))*60)\n",
    "        m=int(m)\n",
    "        print(m)\n",
    "        print(s)\n",
    "else :\n",
    "    print(\"find !\")"
   ]
  },
  {
   "cell_type": "code",
   "execution_count": 156,
   "id": "178c5a5e",
   "metadata": {},
   "outputs": [
    {
     "name": "stdout",
     "output_type": "stream",
     "text": [
      "5:27:29\n"
     ]
    }
   ],
   "source": [
    "new_isht = timedelta(hours=h, minutes=m, seconds=s)\n",
    "print(new_isht)"
   ]
  },
  {
   "cell_type": "code",
   "execution_count": 157,
   "id": "fe9b2b13",
   "metadata": {},
   "outputs": [
    {
     "name": "stdout",
     "output_type": "stream",
     "text": [
      "6\n"
     ]
    }
   ],
   "source": [
    "isht = bt - timedelta(hours=5, minutes=7, seconds=37)\n",
    "diff_isht=new_isht-isht\n",
    "print(diff_isht.seconds)"
   ]
  },
  {
   "cell_type": "code",
   "execution_count": null,
   "id": "2e5efad8",
   "metadata": {},
   "outputs": [],
   "source": []
  }
 ],
 "metadata": {
  "kernelspec": {
   "display_name": "Python 3 (ipykernel)",
   "language": "python",
   "name": "python3"
  },
  "language_info": {
   "codemirror_mode": {
    "name": "ipython",
    "version": 3
   },
   "file_extension": ".py",
   "mimetype": "text/x-python",
   "name": "python",
   "nbconvert_exporter": "python",
   "pygments_lexer": "ipython3",
   "version": "3.10.9"
  }
 },
 "nbformat": 4,
 "nbformat_minor": 5
}
