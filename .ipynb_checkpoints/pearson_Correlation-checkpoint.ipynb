{
 "cells": [
  {
   "cell_type": "code",
   "execution_count": 1,
   "id": "1a1f2338",
   "metadata": {},
   "outputs": [],
   "source": [
    "import matplotlib.pyplot as plt\n",
    "import numpy as np\n",
    "import pandas as pd\n",
    "from numpy import *\n",
    "import math\n"
   ]
  },
  {
   "cell_type": "code",
   "execution_count": 2,
   "id": "4b2d161e",
   "metadata": {},
   "outputs": [
    {
     "name": "stdout",
     "output_type": "stream",
     "text": [
      "13\n",
      "['X', 'Y', 'month', 'day', 'FFMC', 'DMC', 'DC', 'ISI', 'temp', 'RH', 'wind', 'rain', 'area']\n"
     ]
    }
   ],
   "source": [
    "data=pd.read_csv(r'https://archive.ics.uci.edu/ml/machine-learning-databases/forest-fires/forestfires.csv')\n",
    "data.head(10)\n",
    "\n",
    "#df=pd.DataFrame(data,columns=['ISI','wind'])\n",
    "#df\n",
    "\n",
    "i=0\n",
    "arr=[]\n",
    "for col in data:\n",
    "    arr.append(col)\n",
    "    i+=1\n",
    "print(i)\n",
    "print(arr)\n",
    "i=0"
   ]
  },
  {
   "cell_type": "code",
   "execution_count": null,
   "id": "0d816c20",
   "metadata": {},
   "outputs": [],
   "source": [
    "def pearson_corr(fi,fj):\n",
    "    x=data[fi]\n",
    "    y=data[fj]\n",
    "    k_x=[]\n",
    "    k_y=[]\n",
    "    k_x_sq=[]\n",
    "    k_y_sq=[]\n",
    "    l=[]\n",
    "    sum_x=np.sum(x)\n",
    "    sum_y=np.sum(y)\n",
    "    x_bar=sum_x/len(x)\n",
    "    y_bar=sum_y/len(y)\n",
    "    for i in x:\n",
    "        k_x.append(i-x_bar)\n",
    "    for i in y:\n",
    "        k_y.append(i-y_bar)\n",
    "    for i in k_x:\n",
    "        k_x_sq.append(i*i)\n",
    "    for i in k_y:\n",
    "        k_y_sq.append(i*i)\n",
    "    sum_k_x_sq=np.sum(k_x_sq)\n",
    "    std_dv_x=sum_k_x_sq/len(x)\n",
    "    sum_k_y_sq=np.sum(k_y_sq)\n",
    "    std_dv_y=sum_k_y_sq/len(y)\n",
    "    i=0\n",
    "    while i<len(x):\n",
    "        l.append(k_x[i]*k_y[i])\n",
    "    sum_of_l=np.sum(l)\n",
    "    cov_x_y=sum_of_l/len(x)\n",
    "    pears_corr=cov_x_y/((math.sqrt(std_dv_x))*(math.sqrt(std_dv_y)))\n",
    "    return pears_corr\n",
    "\n",
    "\n",
    "\n",
    "\n",
    "\n",
    "print(pearson_corr('X','Y'))"
   ]
  },
  {
   "cell_type": "code",
   "execution_count": null,
   "id": "863d65e2",
   "metadata": {},
   "outputs": [],
   "source": [
    "#for i in arr:\n",
    "#    print(type(i))"
   ]
  },
  {
   "cell_type": "code",
   "execution_count": null,
   "id": "057f02ae",
   "metadata": {},
   "outputs": [],
   "source": [
    "\n",
    "\n",
    "#R=len(arr)\n",
    "#C=R\n",
    "#matrix = [] \n",
    "#print(\"Enter the entries rowwise:\") \n",
    "  \n",
    "# For user input \n",
    "#for i in arr:#range(R):          # A for loop for row entries \n",
    "#    a =[] \n",
    "#    for j in arr:#range(C):      # A for loop for column entries \n",
    "#        #print('[',i,',',j,']') \n",
    "#        a.append(pearson_corr(i,j))\n",
    " #       print(a)\n",
    "#    #matrix.append(a) \n",
    "  \n",
    "# For printing the matrix \n",
    "#print('[')\n",
    "#for i in range(R): \n",
    "#    for j in range(C): \n",
    "#        print(matrix[i][j], end = \" \") \n",
    "#    print() \n",
    "#print(']')\n",
    "\n"
   ]
  },
  {
   "cell_type": "code",
   "execution_count": null,
   "id": "52b1ede1",
   "metadata": {},
   "outputs": [],
   "source": [
    "x=[]\n",
    "df=pd.DataFrame(data,columns=['ISI'])\n",
    "x=df\n",
    "xi=np.sum(df)/len(df)\n",
    "print(xi)\n",
    "print(x)"
   ]
  },
  {
   "cell_type": "code",
   "execution_count": null,
   "id": "faf798e4",
   "metadata": {},
   "outputs": [],
   "source": [
    "\n",
    "#p=pearson_corr('wind','rain')\n",
    "#print('Pearsonian Correlation for wind and rain is : ',p)\n",
    "#print('With N numpy : ',np.corrcoef(data['wind'],data['rain']))"
   ]
  }
 ],
 "metadata": {
  "kernelspec": {
   "display_name": "Python 3 (ipykernel)",
   "language": "python",
   "name": "python3"
  },
  "language_info": {
   "codemirror_mode": {
    "name": "ipython",
    "version": 3
   },
   "file_extension": ".py",
   "mimetype": "text/x-python",
   "name": "python",
   "nbconvert_exporter": "python",
   "pygments_lexer": "ipython3",
   "version": "3.9.12"
  }
 },
 "nbformat": 4,
 "nbformat_minor": 5
}
