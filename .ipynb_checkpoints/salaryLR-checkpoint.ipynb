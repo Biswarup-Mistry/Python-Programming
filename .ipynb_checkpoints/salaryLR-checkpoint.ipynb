{
 "cells": [
  {
   "cell_type": "code",
   "execution_count": 28,
   "id": "e3a90b3f",
   "metadata": {},
   "outputs": [],
   "source": [
    "import matplotlib.pyplot as plt\n",
    "import numpy as np\n",
    "import pandas as pd\n",
    "\n",
    "x[]\n",
    "y[]"
   ]
  },
  {
   "cell_type": "code",
   "execution_count": 54,
   "id": "b1781870",
   "metadata": {},
   "outputs": [
    {
     "name": "stdout",
     "output_type": "stream",
     "text": [
      "    YearsExperience    Salary\n",
      "0               1.1   39343.0\n",
      "1               1.3   46205.0\n",
      "2               1.5   37731.0\n",
      "3               2.0   43525.0\n",
      "4               2.2   39891.0\n",
      "5               2.9   56642.0\n",
      "6               3.0   60150.0\n",
      "7               3.2   54445.0\n",
      "8               3.2   64445.0\n",
      "9               3.7   57189.0\n",
      "10              3.9   63218.0\n",
      "11              4.0   55794.0\n",
      "12              4.0   56957.0\n",
      "13              4.1   57081.0\n",
      "14              4.5   61111.0\n",
      "15              4.9   67938.0\n",
      "16              5.1   66029.0\n",
      "17              5.3   83088.0\n",
      "18              5.9   81363.0\n",
      "19              6.0   93940.0\n",
      "20              6.8   91738.0\n",
      "21              7.1   98273.0\n",
      "22              7.9  101302.0\n",
      "23              8.2  113812.0\n",
      "24              8.7  109431.0\n",
      "25              9.0  105582.0\n",
      "26              9.5  116969.0\n",
      "27              9.6  112635.0\n",
      "28             10.3  122391.0\n",
      "29             10.5  121872.0\n"
     ]
    }
   ],
   "source": [
    "data=pd.read_csv(r'E:\\College_Notes\\PG\\Sem-3\\DesignWork\\DATA_sets\\Salary_Data.csv')\n",
    "print(data)\n",
    "df=pd.DataFrame(data, columns=['YearsExperience','Salary'])\n",
    "n=len(df['YearsExperience'])\n",
    "x=df['YearsExperience']\n",
    "y=df['Salary']\n"
   ]
  },
  {
   "cell_type": "code",
   "execution_count": 49,
   "id": "8c016be2",
   "metadata": {},
   "outputs": [
    {
     "data": {
      "text/plain": [
       "<matplotlib.collections.PathCollection at 0x1d0c8289340>"
      ]
     },
     "execution_count": 49,
     "metadata": {},
     "output_type": "execute_result"
    },
    {
     "data": {
      "image/png": "[encoded data removed]",
      "text/plain": [
       "<Figure size 432x288 with 1 Axes>"
      ]
     },
     "metadata": {
      "needs_background": "light"
     },
     "output_type": "display_data"
    }
   ],
   "source": []
  },
  {
   "cell_type": "code",
   "execution_count": 47,
   "id": "0976adca",
   "metadata": {},
   "outputs": [
    {
     "name": "stdout",
     "output_type": "stream",
     "text": [
      "sum of x :  159.4\n",
      "sum of y :  2280090.0\n"
     ]
    }
   ],
   "source": [
    "\n",
    "#print('n :',n)\n",
    "i=0\n",
    "\n",
    "a=np.sum(x)\n",
    "b=np.sum(y)\n",
    "print('sum of x : ',a)\n",
    "print('sum of y : ',b) \n"
   ]
  },
  {
   "cell_type": "code",
   "execution_count": 37,
   "id": "e8eef8db",
   "metadata": {},
   "outputs": [
    {
     "name": "stdout",
     "output_type": "stream",
     "text": [
      "sum of array xi^2 :  1080.5\n",
      "sum of array xi*yi :  14321961.0\n"
     ]
    }
   ],
   "source": [
    "p=[]\n",
    "i=0\n",
    "while i<n:\n",
    "    p.append(x[i]*y[i])\n",
    "    i+=1\n",
    "#print('x[i]*y[i] :',p)\n",
    "c=np.sum(p)\n",
    "\n",
    "i=0\n",
    "u=[]\n",
    "while i<n:\n",
    "    u.append(x[i]*x[i])\n",
    "    i+=1\n",
    "#print('x[i]*x[i] :',u)\n",
    "d=np.sum(u)\n",
    "\n",
    "print('sum of array xi^2 : ',d)\n",
    "print('sum of array xi*yi : ',c)"
   ]
  },
  {
   "cell_type": "code",
   "execution_count": 50,
   "id": "6c5619b8",
   "metadata": {},
   "outputs": [
    {
     "name": "stdout",
     "output_type": "stream",
     "text": [
      "z :  9449.962321455077 \n",
      "s :  25792.20019866868\n",
      "The Equation is : \n",
      "\n",
      "y =  9449.962321455077 x +  25792.20019866868\n",
      "[[1.10000000e+00 3.61871588e+04]\n",
      " [1.30000000e+00 3.80771512e+04]\n",
      " [1.50000000e+00 3.99671437e+04]\n",
      " [2.00000000e+00 4.46921248e+04]\n",
      " [2.20000000e+00 4.65821173e+04]\n",
      " [2.90000000e+00 5.31970909e+04]\n",
      " [3.00000000e+00 5.41420872e+04]\n",
      " [3.20000000e+00 5.60320796e+04]\n",
      " [3.20000000e+00 5.60320796e+04]\n",
      " [3.70000000e+00 6.07570608e+04]\n",
      " [3.90000000e+00 6.26470533e+04]\n",
      " [4.00000000e+00 6.35920495e+04]\n",
      " [4.00000000e+00 6.35920495e+04]\n",
      " [4.10000000e+00 6.45370457e+04]\n",
      " [4.50000000e+00 6.83170306e+04]\n",
      " [4.90000000e+00 7.20970156e+04]\n",
      " [5.10000000e+00 7.39870080e+04]\n",
      " [5.30000000e+00 7.58770005e+04]\n",
      " [5.90000000e+00 8.15469779e+04]\n",
      " [6.00000000e+00 8.24919741e+04]\n",
      " [6.80000000e+00 9.00519440e+04]\n",
      " [7.10000000e+00 9.28869327e+04]\n",
      " [7.90000000e+00 1.00446903e+05]\n",
      " [8.20000000e+00 1.03281891e+05]\n",
      " [8.70000000e+00 1.08006872e+05]\n",
      " [9.00000000e+00 1.10841861e+05]\n",
      " [9.50000000e+00 1.15566842e+05]\n",
      " [9.60000000e+00 1.16511838e+05]\n",
      " [1.03000000e+01 1.23126812e+05]\n",
      " [1.05000000e+01 1.25016805e+05]]\n"
     ]
    },
    {
     "data": {
      "image/png": "[encoded data removed]",
      "text/plain": [
       "<Figure size 432x288 with 1 Axes>"
      ]
     },
     "metadata": {
      "needs_background": "light"
     },
     "output_type": "display_data"
    }
   ],
   "source": [
    "m=a\n",
    "n1=b\n",
    "v=c\n",
    "r=d\n",
    "\n",
    "z=(m*n1-n*v)/(m*m-n*r)\n",
    "s=(m*v-n1*r)/(m*m-n*r)\n",
    "\n",
    "print(\"z : \",z,\"\\ns : \",s)\n",
    "print('Hence, the Equation is : \\n')\n",
    "print('y = ',z,'x + ',s)\n",
    "\n",
    "i=0\n",
    "g=[]\n",
    "while i<n:\n",
    "    g.append(z*x[i]+s)\n",
    "    i+=1\n",
    "\n",
    "data = np.vstack([x, g]).T\n",
    "print (data[:])\n",
    "\n",
    "plt.xlabel('YearsExperience')\n",
    "plt.ylabel('Salary')\n",
    "plt.title('Salary vs Experience') \n",
    "plt.scatter(x,y, color='red')\n",
    "plt.plot(x, g, marker='o',color='blue')\n",
    "plt.show()"
   ]
  },
  {
   "cell_type": "code",
   "execution_count": null,
   "id": "d008539a",
   "metadata": {},
   "outputs": [],
   "source": []
  }
 ],
 "metadata": {
  "kernelspec": {
   "display_name": "Python 3 (ipykernel)",
   "language": "python",
   "name": "python3"
  },
  "language_info": {
   "codemirror_mode": {
    "name": "ipython",
    "version": 3
   },
   "file_extension": ".py",
   "mimetype": "text/x-python",
   "name": "python",
   "nbconvert_exporter": "python",
   "pygments_lexer": "ipython3",
   "version": "3.9.12"
  }
 },
 "nbformat": 4,
 "nbformat_minor": 5
}
