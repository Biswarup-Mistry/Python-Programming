{
 "cells": [
  {
   "cell_type": "code",
   "execution_count": 41,
   "id": "05635720",
   "metadata": {},
   "outputs": [
    {
     "name": "stdout",
     "output_type": "stream",
     "text": [
      "x :  [44 35 26 35 20] \n",
      "y :  [ 0 75 27 15 12]\n",
      "sum of array x : 160 \n",
      "sum of array y : 129\n"
     ]
    },
    {
     "data": {
      "image/png": "[encoded data removed]",
      "text/plain": [
       "<Figure size 432x288 with 1 Axes>"
      ]
     },
     "metadata": {
      "needs_background": "light"
     },
     "output_type": "display_data"
    }
   ],
   "source": [
    "import matplotlib.pyplot as plt\n",
    "import numpy as np\n",
    "import random\n",
    "\n",
    "i=0\n",
    "k=[]\n",
    "l=[]\n",
    "\n",
    "while i<5:\n",
    "    num=random.randrange(20, 50, 3)\n",
    "    k.append(num)\n",
    "    i+=1\n",
    "#print(k)\n",
    "\n",
    "x=np.array(k)\n",
    "i=0\n",
    "while i<5:\n",
    "    num=random.randrange(0, 100, 3)\n",
    "    l.append(num)\n",
    "    i+=1\n",
    "#print(l)\n",
    "y=np.array(l)\n",
    "print('x : ',x,'\\ny : ',y)\n",
    "\n",
    "a=np.sum(x)\n",
    "b=np.sum(y)\n",
    "\n",
    "print('sum of array x :',a, '\\nsum of array y :',b)\n",
    "plt.scatter(x, y)\n",
    "plt.xlabel(\"Avg Pulse\")\n",
    "plt.ylabel(\"Avg Life\")\n",
    "plt.show()\n",
    "\n",
    "\n"
   ]
  },
  {
   "cell_type": "code",
   "execution_count": null,
   "id": "c47318cf",
   "metadata": {},
   "outputs": [],
   "source": []
  },
  {
   "cell_type": "code",
   "execution_count": null,
   "id": "2ae155a0",
   "metadata": {},
   "outputs": [],
   "source": []
  }
 ],
 "metadata": {
  "kernelspec": {
   "display_name": "Python 3 (ipykernel)",
   "language": "python",
   "name": "python3"
  },
  "language_info": {
   "codemirror_mode": {
    "name": "ipython",
    "version": 3
   },
   "file_extension": ".py",
   "mimetype": "text/x-python",
   "name": "python",
   "nbconvert_exporter": "python",
   "pygments_lexer": "ipython3",
   "version": "3.9.12"
  }
 },
 "nbformat": 4,
 "nbformat_minor": 5
}
