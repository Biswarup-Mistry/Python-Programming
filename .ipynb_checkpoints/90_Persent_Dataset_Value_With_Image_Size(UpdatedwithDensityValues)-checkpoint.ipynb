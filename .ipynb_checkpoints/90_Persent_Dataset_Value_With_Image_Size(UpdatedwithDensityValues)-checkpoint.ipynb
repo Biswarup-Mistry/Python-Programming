{
 "cells": [
  {
   "cell_type": "code",
   "execution_count": 1,
   "id": "835adb05",
   "metadata": {},
   "outputs": [],
   "source": [
    "import numpy as np\n",
    "import pandas as pd\n",
    "import os\n",
    "import math\n",
    "import random\n",
    "import shutil\n",
    "from PIL import Image\n",
    "from skimage.io import imread\n",
    "from skimage.metrics import structural_similarity as ssim\n",
    "from skimage.color import rgb2gray\n",
    "\n",
    "from os import path\n",
    "import imghdr"
   ]
  },
  {
   "cell_type": "code",
   "execution_count": 2,
   "id": "50c70971",
   "metadata": {},
   "outputs": [
    {
     "name": "stdout",
     "output_type": "stream",
     "text": [
      "10\n"
     ]
    }
   ],
   "source": [
    "path=r'C:\\Users\\Biswarup Mistry\\Desktop\\New_DB\\TestSet'\n",
    "#path=r'C:\\Users\\Biswarup Mistry\\Desktop\\New_DB\\TrainingSet' #--------------------[Change Here]\n",
    "#path=r'C:\\Users\\Biswarup Mistry\\Desktop\\USC_SIPI_Databases' #USC_SIPI_Database directory [To Change 1]\n",
    "dir_list=os.listdir(path)\n",
    "print(len(dir_list))"
   ]
  },
  {
   "cell_type": "code",
   "execution_count": 3,
   "id": "94e62b93",
   "metadata": {},
   "outputs": [],
   "source": [
    "def createFolder():\n",
    "    count=0\n",
    "    count1=0\n",
    "    dir_list=os.listdir(path)\n",
    "    parent_dir=path\n",
    "    dir_list=os.listdir(path)\n",
    "    check1=str(path+'\\\\'+'256')\n",
    "    check2=str(path+'\\\\'+'512')\n",
    "    check3=str(path+'\\\\'+'1024')\n",
    "    \n",
    "    isExist1=os.path.exists(check1)\n",
    "    isExist2=os.path.exists(check2)\n",
    "    isExist3=os.path.exists(check3)\n",
    "    \n",
    "    if isExist1==isExist2==isExist3==False:\n",
    "        for item in dir_list:\n",
    "            if (item!=check1) and (item!=check2) and (item!=check3):\n",
    "                k=str(path+'\\\\'+item)\n",
    "                img = Image.open(k)\n",
    "                w, h= img.size\n",
    "                img.close()\n",
    "                file_path=str(path+'\\\\'+str(w))\n",
    "                isExist=os.path.exists(file_path)\n",
    "                if isExist==False:\n",
    "                    directory=str(w)\n",
    "                    path1 = os.path.join(parent_dir, directory)\n",
    "                    os.mkdir(path1)\n",
    "                    count1+=1\n",
    "    else:\n",
    "        print('Folders already exist!')\n",
    "    print('Created Folder : ',count1)\n",
    "    "
   ]
  },
  {
   "cell_type": "code",
   "execution_count": 4,
   "id": "ce015728",
   "metadata": {},
   "outputs": [],
   "source": [
    "#moving images according to their image size to appropriate folders\n",
    "\n",
    "def moveImage():\n",
    "    count=0\n",
    "    dir_list=os.listdir(path)\n",
    "    check1=str(path+'\\\\'+'256')\n",
    "    check2=str(path+'\\\\'+'512')\n",
    "    check3=str(path+'\\\\'+'1024')\n",
    "    #print(len(dir_list))\n",
    "    if len(dir_list)>3:\n",
    "        for item in dir_list:\n",
    "            k=str(path+'\\\\'+item) \n",
    "            isdir = os.path.isdir(k)\n",
    "            if isdir== False :\n",
    "                img = Image.open(k)\n",
    "                w, h= img.size\n",
    "                file_path=str(path+'\\\\'+str(w))\n",
    "                old_path=str(path+'\\\\'+str(item))\n",
    "                n_path=str(file_path+'\\\\'+str(item))\n",
    "                img.close()\n",
    "                shutil.move(old_path, n_path)\n",
    "                count+=1\n",
    "        \n",
    "        print('Image(s) moved : ',count)\n",
    "    elif len(dir_list)==3:\n",
    "        print('Nothing to Move!')\n"
   ]
  },
  {
   "cell_type": "code",
   "execution_count": 5,
   "id": "245ce3d5",
   "metadata": {},
   "outputs": [
    {
     "name": "stdout",
     "output_type": "stream",
     "text": [
      "Created Folder :  3\n"
     ]
    }
   ],
   "source": [
    "createFolder()"
   ]
  },
  {
   "cell_type": "code",
   "execution_count": 6,
   "id": "aca9adef",
   "metadata": {},
   "outputs": [
    {
     "name": "stdout",
     "output_type": "stream",
     "text": [
      "Image(s) moved :  10\n"
     ]
    }
   ],
   "source": [
    "moveImage()"
   ]
  },
  {
   "cell_type": "code",
   "execution_count": 7,
   "id": "ee3b2f2f",
   "metadata": {},
   "outputs": [],
   "source": [
    "def get_Noise(image, prob):\n",
    "    #'''\n",
    "    #Add salt and pepper noise to image\n",
    "    #prob: Probability of the noise\n",
    "    #'''\n",
    "    output = image.copy()\n",
    "    if len(image.shape) == 2:\n",
    "        black = 0\n",
    "        white = 255            \n",
    "    else:\n",
    "        colorspace = image.shape[2]\n",
    "        if colorspace == 3:  # RGB\n",
    "            black = np.array([0, 0, 0], dtype='uint8')\n",
    "            white = np.array([255, 255, 255], dtype='uint8')\n",
    "        else:  # RGBA\n",
    "            black = np.array([0, 0, 0, 255], dtype='uint8')\n",
    "            white = np.array([255, 255, 255, 255], dtype='uint8')\n",
    "    probs = np.random.random(output.shape[:2])\n",
    "    output[probs < (prob / 2)] = black\n",
    "    output[probs > 1 - (prob / 2)] = white\n",
    "    return output"
   ]
  },
  {
   "cell_type": "code",
   "execution_count": 8,
   "id": "3b335a35",
   "metadata": {},
   "outputs": [],
   "source": [
    "def PSNRVsNoiseDensity(dirc_list,dataframe,D): #getting corresponding mse(s) for given noise density 'd'\n",
    "    r=255.0\n",
    "    #dataframe = pd.DataFrame()\n",
    "    file_path=str(dirc_list+'\\\\'+'PSNRvsNoiseDensity.csv')\n",
    "    isExist=os.path.exists(file_path)\n",
    "    if isExist==False:\n",
    "        for item in os.listdir(dirc_list) :\n",
    "            if item!='SSIMvsNoiseDensity.csv' and item!='PSNRvsNoiseDensity.csv':\n",
    "                #k=str(path+str(item))\n",
    "                k=str(dirc_list+'\\\\'+item)\n",
    "                img = imread(k)\n",
    "                x=[]\n",
    "                y=[]\n",
    "                df=np.array([])\n",
    "                #i=iteration\n",
    "                #d=0.1\n",
    "                #while(i>0 and d<=0.3):\n",
    "                #D=[0.1,0.2,0.3,0.4,0.5]\n",
    "                for d in D:\n",
    "                    noise_img=get_Noise(img,d) #getting noisy image\n",
    "                    mse=np.square(np.subtract(img,noise_img)).mean() #calculating MSE of Original image and Image with Noise\n",
    "                    psnr=10*np.log10(np.square(r)/mse) #getting the psnr of Original image and Noisy image\n",
    "                    x.append(d)\n",
    "                    y.append(psnr)\n",
    "                    df=np.append(df,psnr)\n",
    "                    #d=d+0.1\n",
    "                    #i=i-1\n",
    "                dataframe[item] = df\n",
    "            dataframe.to_csv(os.path.join(dirc_list,'PSNRvsNoiseDensity.csv'))# index=False) #creating the PSNR valu csv file\n",
    "            #os.path.join(dirc_list,'PSNRvsNoiseDensity.csv')\n"
   ]
  },
  {
   "cell_type": "code",
   "execution_count": 9,
   "id": "c9ea5b71",
   "metadata": {},
   "outputs": [],
   "source": [
    "def SSIMVsNoiseDensity(dirc_list,dataframe,D): #getting corresponding mse(s) for given noise density 'd'\n",
    "    r=255.0\n",
    "    #dataframe = pd.DataFrame()\n",
    "    file_path=str(dirc_list+'\\\\'+'SSIMvsNoiseDensity.csv')\n",
    "    isExist=os.path.exists(file_path)\n",
    "    if isExist==False:\n",
    "        for item in os.listdir(dirc_list) :\n",
    "            if item!='SSIMvsNoiseDensity.csv' and item!='PSNRvsNoiseDensity.csv':\n",
    "                #k=str(path+str(item))\n",
    "                k=str(dirc_list+'\\\\'+item)\n",
    "                img = imread(k)\n",
    "                #x=[]\n",
    "                #y=[]\n",
    "                df=np.array([])\n",
    "                #i=iteration\n",
    "                #d=0.1\n",
    "                #while(i>0 and d<=0.3):\n",
    "                #D=[0.1,0.2,0.3,0.4,0.5]\n",
    "                for d in D:\n",
    "                    #img=np.squeeze(img)\n",
    "\n",
    "\n",
    "\n",
    "                    noise_img=get_Noise(img,d) #getting noisy image\n",
    "\n",
    "                    #---------------------- (conversion for SSIM)\n",
    "                    if len(img.shape)!=2 : #if image is not gray, i.e., RGB\n",
    "                        im = rgb2gray(img)\n",
    "                        noise_im=rgb2gray(noise_img)\n",
    "                    else : #if image is Gray already\n",
    "                        im=img\n",
    "                        noise_im=noise_img\n",
    "                    #---------------------- (conversion for SSIM)\n",
    "\n",
    "                    SSIM = ssim(im,noise_im) #Obtaining the value of SSIM b/t two Images(Noisy and Original)\n",
    "\n",
    "                    #x.append(d)\n",
    "                    #y.append(SSIM)\n",
    "                    df=np.append(df,SSIM)\n",
    "                dataframe[item] = df\n",
    "            dataframe.to_csv(os.path.join(dirc_list,'SSIMvsNoiseDensity.csv'))"
   ]
  },
  {
   "cell_type": "code",
   "execution_count": 10,
   "id": "6e87286b",
   "metadata": {},
   "outputs": [],
   "source": [
    "#dataframe = pd.DataFrame()\n",
    "D=[0.05,0.07,0.09,0.1,0.15,0.20,0.25,0.30,0.35,0.40]\n",
    "dir_list=os.listdir(path)\n",
    "for item in dir_list :\n",
    "    #p=str(path+'\\\\'+str(item))\n",
    "    #dir_lst=os.listdir(p)\n",
    "    #for item in dir_lst:\n",
    "    dataframe = pd.DataFrame()\n",
    "    new_path=str(path+'\\\\'+str(item))\n",
    "    PSNRVsNoiseDensity(new_path,dataframe,D)\n",
    "#dataframe.to_csv('PSNR_of_80_percent_Data.csv', index=False)   \n",
    "        #print(dir_lst)\n",
    "\n",
    "    \n",
    "for item in dir_list :\n",
    "    #p=str(path+'\\\\'+str(item))\n",
    "    #dir_lst=os.listdir(p)\n",
    "    #for item in dir_lst:\n",
    "    #n_path=str(file_path+'\\\\'+str(item))\n",
    "    dataframe = pd.DataFrame()\n",
    "    new_path=str(path+'\\\\'+str(item))\n",
    "    SSIMVsNoiseDensity(new_path,dataframe,D)\n",
    "#dataframe.to_csv('PSNR_of_80_percent_Data.csv', index=False)   \n",
    "        #print(dir_lst)\n",
    "   \n",
    "\n"
   ]
  },
  {
   "cell_type": "code",
   "execution_count": null,
   "id": "2507ca83",
   "metadata": {},
   "outputs": [],
   "source": []
  },
  {
   "cell_type": "code",
   "execution_count": null,
   "id": "84c97a85",
   "metadata": {},
   "outputs": [],
   "source": []
  },
  {
   "cell_type": "code",
   "execution_count": null,
   "id": "cc53a2e8",
   "metadata": {},
   "outputs": [],
   "source": []
  }
 ],
 "metadata": {
  "kernelspec": {
   "display_name": "Python 3 (ipykernel)",
   "language": "python",
   "name": "python3"
  },
  "language_info": {
   "codemirror_mode": {
    "name": "ipython",
    "version": 3
   },
   "file_extension": ".py",
   "mimetype": "text/x-python",
   "name": "python",
   "nbconvert_exporter": "python",
   "pygments_lexer": "ipython3",
   "version": "3.10.9"
  }
 },
 "nbformat": 4,
 "nbformat_minor": 5
}
