{
 "cells": [
  {
   "cell_type": "code",
   "execution_count": 31,
   "id": "87ef2006",
   "metadata": {},
   "outputs": [],
   "source": [
    "import numpy as np\n",
    "import pandas as pd\n",
    "import os\n",
    "import math\n",
    "import random\n",
    "import shutil"
   ]
  },
  {
   "cell_type": "code",
   "execution_count": 32,
   "id": "1f628f5d",
   "metadata": {},
   "outputs": [
    {
     "name": "stdout",
     "output_type": "stream",
     "text": [
      "4\n"
     ]
    }
   ],
   "source": [
    "path=r'C:\\Users\\Biswarup Mistry\\Desktop\\USC_SIPI_Databases' #USC_SIPI_Database directory\n",
    "dir_list=os.listdir(path)\n",
    "print(len(dir_list))"
   ]
  },
  {
   "cell_type": "code",
   "execution_count": 33,
   "id": "871bacef",
   "metadata": {},
   "outputs": [
    {
     "name": "stdout",
     "output_type": "stream",
     "text": [
      "38\n",
      "For Training Dataset  :  30\n",
      "39\n",
      "For Training Dataset  :  31\n",
      "69\n",
      "For Training Dataset  :  55\n",
      "64\n",
      "For Training Dataset  :  51\n"
     ]
    }
   ],
   "source": [
    "for item in dir_list :\n",
    "    k=str(path+'\\\\'+str(item))\n",
    "    #img = imread(k)\n",
    "    dir_lst=os.listdir(k)\n",
    "    print(len(dir_lst))\n",
    "    print('For Training Dataset  : ',math.floor((len(dir_lst)*80)/100))"
   ]
  },
  {
   "cell_type": "code",
   "execution_count": 34,
   "id": "84fc5a07",
   "metadata": {},
   "outputs": [
    {
     "name": "stdout",
     "output_type": "stream",
     "text": [
      "30\n"
     ]
    }
   ],
   "source": [
    "a=math.floor((38*80)/100)\n",
    "print(a)"
   ]
  },
  {
   "cell_type": "code",
   "execution_count": 35,
   "id": "52808ff1",
   "metadata": {},
   "outputs": [],
   "source": [
    "#random.choices(list, k=3) #Choose multiple random items from a list, set, or any data structure. "
   ]
  },
  {
   "cell_type": "code",
   "execution_count": 36,
   "id": "8b1c17b2",
   "metadata": {},
   "outputs": [],
   "source": [
    "for item in dir_list :\n",
    "    if item != \"misc\" :\n",
    "        p=str(path+'\\\\'+str(item))\n",
    "        dir_lst=os.listdir(p)\n",
    "        #a=random.choices(dir_lst, k=3)  #Choose multiple random items from a list, set, or any data structure.\n",
    "        i=1\n",
    "        cal=math.floor((len(dir_lst)*80)/100)\n",
    "        cal1=len(dir_lst)-cal\n",
    "        directory = \"Training Set\"\n",
    "        parent_dir = p\n",
    "        path1 = os.path.join(parent_dir, directory)\n",
    "        os.mkdir(path1) #making the 'Training Set' Directory\n",
    "        new_path=str(parent_dir+'\\\\'+directory)\n",
    "        \n",
    "        while i<=cal :\n",
    "            a=random.choices(os.listdir(p)) #randomly choosen 80% training data set of current dataset & gives a list\n",
    "            for image in a :\n",
    "                if image != directory :\n",
    "                    old_path=p+'\\\\'+image\n",
    "                    n_path=new_path+'\\\\'+image\n",
    "                    #try :\n",
    "                    shutil.move(old_path, n_path) #to move the files\n",
    "                    #except FileNotFoundError :\n",
    "                        #print('Error : File not Found for Image = ',image)\n",
    "                    i+=1\n",
    "       \n",
    "        directory1 = \"Test Set\"\n",
    "        parent_dir = p\n",
    "        path1 = os.path.join(parent_dir, directory1)\n",
    "        os.mkdir(path1) #making the 'Training Set' Directory\n",
    "        new_path=str(parent_dir+'\\\\'+directory1)\n",
    "        a=os.listdir(p)\n",
    "        for item in a:\n",
    "            if (item != directory) and (item != directory1) :\n",
    "                old_path=p+'\\\\'+item\n",
    "                n_path=new_path+'\\\\'+item\n",
    "                shutil.move(old_path, n_path) \n"
   ]
  },
  {
   "cell_type": "code",
   "execution_count": 25,
   "id": "d1542777",
   "metadata": {},
   "outputs": [],
   "source": [
    "for item in dir_list :\n",
    "    if item != \"misc\" :\n",
    "        p=str(path+'\\\\'+str(item))\n",
    "       \n",
    "        dir_lst=os.listdir(p)"
   ]
  },
  {
   "cell_type": "code",
   "execution_count": null,
   "id": "af8b9a30",
   "metadata": {},
   "outputs": [],
   "source": [
    "\n",
    "\n"
   ]
  }
 ],
 "metadata": {
  "kernelspec": {
   "display_name": "Python 3 (ipykernel)",
   "language": "python",
   "name": "python3"
  },
  "language_info": {
   "codemirror_mode": {
    "name": "ipython",
    "version": 3
   },
   "file_extension": ".py",
   "mimetype": "text/x-python",
   "name": "python",
   "nbconvert_exporter": "python",
   "pygments_lexer": "ipython3",
   "version": "3.9.12"
  }
 },
 "nbformat": 4,
 "nbformat_minor": 5
}
