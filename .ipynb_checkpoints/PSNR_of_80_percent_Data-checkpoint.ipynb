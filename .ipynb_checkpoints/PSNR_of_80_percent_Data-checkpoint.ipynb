{
 "cells": [
  {
   "cell_type": "code",
   "execution_count": 31,
   "id": "7a01b391",
   "metadata": {},
   "outputs": [],
   "source": [
    "import numpy as np\n",
    "import pandas as pd\n",
    "import os\n",
    "import math\n",
    "import random"
   ]
  },
  {
   "cell_type": "code",
   "execution_count": 32,
   "id": "7133de74",
   "metadata": {},
   "outputs": [
    {
     "name": "stdout",
     "output_type": "stream",
     "text": [
      "4\n"
     ]
    }
   ],
   "source": [
    "path=r'C:\\Users\\Biswarup Mistry\\Desktop\\USC_SIPI_Databases' #USC_SIPI_Database directory\n",
    "dir_list=os.listdir(path)\n",
    "print(len(dir_list))"
   ]
  },
  {
   "cell_type": "code",
   "execution_count": 33,
   "id": "4f20a116",
   "metadata": {},
   "outputs": [
    {
     "name": "stdout",
     "output_type": "stream",
     "text": [
      "38\n",
      "39\n",
      "69\n",
      "64\n"
     ]
    }
   ],
   "source": [
    "for item in dir_list :\n",
    "    k=str(path+'\\\\'+str(item))\n",
    "    #img = imread(k)\n",
    "    dir_lst=os.listdir(k)\n",
    "    print(len(dir_lst))"
   ]
  },
  {
   "cell_type": "code",
   "execution_count": 34,
   "id": "1054cb3b",
   "metadata": {},
   "outputs": [
    {
     "name": "stdout",
     "output_type": "stream",
     "text": [
      "30\n"
     ]
    }
   ],
   "source": [
    "a=math.floor((38*80)/100)\n",
    "print(a)"
   ]
  },
  {
   "cell_type": "code",
   "execution_count": 36,
   "id": "c41732d0",
   "metadata": {},
   "outputs": [],
   "source": [
    "#random.choices(list, k=3) #Choose multiple random items from a list, set, or any data structure. "
   ]
  },
  {
   "cell_type": "code",
   "execution_count": 41,
   "id": "71c0af8e",
   "metadata": {},
   "outputs": [
    {
     "name": "stdout",
     "output_type": "stream",
     "text": [
      "a[ aerials ] =  ['2.2.13.tiff', '2.2.19.tiff', '2.2.12.tiff']\n",
      "a[ sequences ] =  ['6.2.01.tiff', '6.1.03.tiff', '6.2.16.tiff']\n",
      "a[ textures ] =  ['1.1.02.tiff', '1.3.02.tiff', '1.1.03.tiff']\n"
     ]
    }
   ],
   "source": [
    "for item in dir_list :\n",
    "    if item != \"misc\" :\n",
    "        k=str(path+'\\\\'+str(item))\n",
    "        #img = imread(k)\n",
    "        dir_lst=os.listdir(k)\n",
    "        a=random.choices(dir_lst, k=3)  #Choose multiple random items from a list, set, or any data structure. \n",
    "        print('a[',item,'] = ',a)"
   ]
  },
  {
   "cell_type": "code",
   "execution_count": null,
   "id": "9e7f674f",
   "metadata": {},
   "outputs": [],
   "source": []
  }
 ],
 "metadata": {
  "kernelspec": {
   "display_name": "Python 3 (ipykernel)",
   "language": "python",
   "name": "python3"
  },
  "language_info": {
   "codemirror_mode": {
    "name": "ipython",
    "version": 3
   },
   "file_extension": ".py",
   "mimetype": "text/x-python",
   "name": "python",
   "nbconvert_exporter": "python",
   "pygments_lexer": "ipython3",
   "version": "3.9.12"
  }
 },
 "nbformat": 4,
 "nbformat_minor": 5
}
