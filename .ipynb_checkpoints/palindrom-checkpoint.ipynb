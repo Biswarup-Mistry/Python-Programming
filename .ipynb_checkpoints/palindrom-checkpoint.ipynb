{
 "cells": [
  {
   "cell_type": "code",
   "execution_count": 5,
   "id": "bbbd3dd0",
   "metadata": {},
   "outputs": [],
   "source": [
    "def palindrom(a):\n",
    "    j=len(a)-1\n",
    "    i=0\n",
    "    b=1\n",
    "    #j=n\n",
    "    if (a[i]==a[j]) and (i<=j):\n",
    "        i+=1\n",
    "        j=j-1\n",
    "    else:\n",
    "        b=0\n",
    "        print(\"\\nNot Palindrom\")\n",
    "    if b==1:\n",
    "        print(\"\\nPalindrom\")\n",
    "      "
   ]
  },
  {
   "cell_type": "code",
   "execution_count": 7,
   "id": "923e74ce",
   "metadata": {},
   "outputs": [
    {
     "name": "stdout",
     "output_type": "stream",
     "text": [
      "Enter String1234321\n",
      "\n",
      "Palindrom\n"
     ]
    }
   ],
   "source": [
    "a=input(\"Enter String : \\n\")\n",
    "palindrom(a)"
   ]
  },
  {
   "cell_type": "code",
   "execution_count": null,
   "id": "088db8bd",
   "metadata": {},
   "outputs": [],
   "source": []
  }
 ],
 "metadata": {
  "kernelspec": {
   "display_name": "Python 3 (ipykernel)",
   "language": "python",
   "name": "python3"
  },
  "language_info": {
   "codemirror_mode": {
    "name": "ipython",
    "version": 3
   },
   "file_extension": ".py",
   "mimetype": "text/x-python",
   "name": "python",
   "nbconvert_exporter": "python",
   "pygments_lexer": "ipython3",
   "version": "3.9.12"
  }
 },
 "nbformat": 4,
 "nbformat_minor": 5
}
