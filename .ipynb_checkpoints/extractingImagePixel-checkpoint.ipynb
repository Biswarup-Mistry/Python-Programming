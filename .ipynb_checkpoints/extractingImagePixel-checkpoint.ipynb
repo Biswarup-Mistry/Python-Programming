{
 "cells": [
  {
   "cell_type": "code",
   "execution_count": 30,
   "id": "af284976",
   "metadata": {},
   "outputs": [
    {
     "name": "stdout",
     "output_type": "stream",
     "text": [
      "(174, 173, 213)\n",
      "(512, 512)\n",
      "width :  512 \n",
      "height :  512\n",
      "In last :  (66, 108, 148)\n",
      "Size of the Mtrix is :  512 x 512\n"
     ]
    }
   ],
   "source": [
    "from PIL import Image\n",
    "\n",
    "img=Image.open(r'C:\\Users\\Biswarup Mistry\\Downloads\\512x512 PNG Landscape Texture - Sunrise Lake.jpg')\n",
    "px=img.load()\n",
    "print(px[4,4])\n",
    "\n",
    "print(img.size)\n",
    "\n",
    "width, height = img.size\n",
    "\n",
    "print('width : ',width,'\\nheight : ',height)\n",
    "i=0\n",
    "j=0\n",
    "matrix=[]\n",
    "while i<height:\n",
    "    a=[]\n",
    "    while j<width:\n",
    "        a.append(px[i,j])\n",
    "        #print(px[i,j])\n",
    "        j+=1\n",
    "    matrix.append(a)\n",
    "    j=0\n",
    "    i+=1\n",
    "\n",
    "#i=0\n",
    "#j=0\n",
    "#while i<height:\n",
    "#    print('i : ',i)\n",
    "#    while j<width:\n",
    "#        print(matrix[i][j])\n",
    "#        j+=1\n",
    "#    j=0\n",
    "#    i+=1\n",
    "    \n",
    "print('In last : ',matrix[510][511])\n",
    "print('Size of the Mtrix is : ',len(matrix),'x',len(matrix[0]))\n"
   ]
  },
  {
   "cell_type": "code",
   "execution_count": null,
   "id": "9766316d",
   "metadata": {},
   "outputs": [],
   "source": []
  }
 ],
 "metadata": {
  "kernelspec": {
   "display_name": "Python 3 (ipykernel)",
   "language": "python",
   "name": "python3"
  },
  "language_info": {
   "codemirror_mode": {
    "name": "ipython",
    "version": 3
   },
   "file_extension": ".py",
   "mimetype": "text/x-python",
   "name": "python",
   "nbconvert_exporter": "python",
   "pygments_lexer": "ipython3",
   "version": "3.9.12"
  }
 },
 "nbformat": 4,
 "nbformat_minor": 5
}
