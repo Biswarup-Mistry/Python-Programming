{
 "cells": [
  {
   "cell_type": "code",
   "execution_count": 8,
   "id": "95bc562b",
   "metadata": {},
   "outputs": [],
   "source": [
    "import random\n",
    "import numpy as np\n",
    "import cv2\n",
    "from skimage.metrics import structural_similarity as ssim\n",
    "from SSIM_PIL import compare_ssim\n"
   ]
  },
  {
   "cell_type": "code",
   "execution_count": 9,
   "id": "c37c9bc9",
   "metadata": {},
   "outputs": [],
   "source": [
    "def add_noise(img,d):\n",
    " \n",
    "    # Getting the dimensions of the image\n",
    "    row , col = img.shape\n",
    "     \n",
    "    # Randomly pick some pixels in the\n",
    "    # image for coloring them white\n",
    "    # Pick a random number between 300 and 10000\n",
    "    #number_of_pixels = random.randint(300, 10000)\n",
    "    number_of_pixels = d\n",
    "    for i in range(number_of_pixels):\n",
    "       \n",
    "        # Pick a random y coordinate\n",
    "        y_coord=random.randint(0, row - 1)\n",
    "         \n",
    "        # Pick a random x coordinate\n",
    "        x_coord=random.randint(0, col - 1)\n",
    "         \n",
    "        # Color that pixel to white\n",
    "        img[y_coord][x_coord] = 255\n",
    "         \n",
    "    # Randomly pick some pixels in\n",
    "    # the image for coloring them black\n",
    "    # Pick a random number between 300 and 10000\n",
    "    #number_of_pixels = random.randint(300 , 10000)\n",
    "    number_of_pixels = 1-d\n",
    "    for i in range(number_of_pixels):\n",
    "       \n",
    "        # Pick a random y coordinate\n",
    "        y_coord=random.randint(0, row - 1)\n",
    "         \n",
    "        # Pick a random x coordinate\n",
    "        x_coord=random.randint(0, col - 1)\n",
    "         \n",
    "        # Color that pixel to black\n",
    "        img[y_coord][x_coord] = 0\n",
    "         \n",
    "    return img\n",
    " \n",
    "# salt-and-pepper noise can\n",
    "# be applied only to grayscale images\n",
    "# Reading the color image in grayscale image"
   ]
  },
  {
   "cell_type": "code",
   "execution_count": 10,
   "id": "633868e0",
   "metadata": {},
   "outputs": [],
   "source": [
    "def sp_noise(image, prob):\n",
    "    '''\n",
    "    Add salt and pepper noise to image\n",
    "    prob: Probability of the noise\n",
    "    '''\n",
    "    output = image.copy()\n",
    "    if len(image.shape) == 2:\n",
    "        black = 0\n",
    "        white = 255            \n",
    "    else:\n",
    "        colorspace = image.shape[2]\n",
    "        if colorspace == 3:  # RGB\n",
    "            black = np.array([0, 0, 0], dtype='uint8')\n",
    "            white = np.array([255, 255, 255], dtype='uint8')\n",
    "        else:  # RGBA\n",
    "            black = np.array([0, 0, 0, 255], dtype='uint8')\n",
    "            white = np.array([255, 255, 255, 255], dtype='uint8')\n",
    "    probs = np.random.random(output.shape[:2])\n",
    "    output[probs < (prob / 2)] = black\n",
    "    output[probs > 1 - (prob / 2)] = white\n",
    "    return output"
   ]
  },
  {
   "cell_type": "code",
   "execution_count": 23,
   "id": "288b39d8",
   "metadata": {},
   "outputs": [
    {
     "name": "stdout",
     "output_type": "stream",
     "text": [
      "0.16583280252078714\n"
     ]
    }
   ],
   "source": [
    "path=r'C://Users//Biswarup Mistry//Desktop//Misc1//db//' \n",
    "item='1.tiff'\n",
    "k=str(path+str(item))\n",
    "\n",
    "img = cv2.imread(k,cv2.IMREAD_GRAYSCALE)\n",
    " \n",
    "#Storing the image\n",
    "#cv2.imwrite('salt-and-pepper-1.tiff',add_noise(img))\n",
    "#img1=cv2.imread('salt-and-pepper-1.tiff',cv2.IMREAD_GRAYSCALE)\n",
    "\n",
    "d=0.15\n",
    "#img1=add_noise(img,d)\n",
    "\n",
    "img1=sp_noise(img,d)\n",
    "\n",
    "#value=ssim(img,img1)\n",
    "value=ssim(img,img1)\n",
    "\n",
    "print(value)"
   ]
  },
  {
   "cell_type": "code",
   "execution_count": null,
   "id": "c6acbdf6",
   "metadata": {},
   "outputs": [],
   "source": []
  }
 ],
 "metadata": {
  "kernelspec": {
   "display_name": "Python 3 (ipykernel)",
   "language": "python",
   "name": "python3"
  },
  "language_info": {
   "codemirror_mode": {
    "name": "ipython",
    "version": 3
   },
   "file_extension": ".py",
   "mimetype": "text/x-python",
   "name": "python",
   "nbconvert_exporter": "python",
   "pygments_lexer": "ipython3",
   "version": "3.9.12"
  }
 },
 "nbformat": 4,
 "nbformat_minor": 5
}
