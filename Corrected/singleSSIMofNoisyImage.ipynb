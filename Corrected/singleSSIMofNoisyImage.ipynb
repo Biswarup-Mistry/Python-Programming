{
 "cells": [
  {
   "cell_type": "code",
   "execution_count": 113,
   "id": "95bc562b",
   "metadata": {},
   "outputs": [],
   "source": [
    "import random\n",
    "import cv2\n",
    "from skimage.metrics import structural_similarity as ssim\n",
    "from SSIM_PIL import compare_ssim\n"
   ]
  },
  {
   "cell_type": "code",
   "execution_count": 120,
   "id": "c37c9bc9",
   "metadata": {},
   "outputs": [],
   "source": [
    "def add_noise(img,d):\n",
    " \n",
    "    # Getting the dimensions of the image\n",
    "    row , col = img.shape\n",
    "     \n",
    "    # Randomly pick some pixels in the\n",
    "    # image for coloring them white\n",
    "    # Pick a random number between 300 and 10000\n",
    "    #number_of_pixels = random.randint(300, 10000)\n",
    "    number_of_pixels = d\n",
    "    for i in range(number_of_pixels):\n",
    "       \n",
    "        # Pick a random y coordinate\n",
    "        y_coord=random.randint(0, row - 1)\n",
    "         \n",
    "        # Pick a random x coordinate\n",
    "        x_coord=random.randint(0, col - 1)\n",
    "         \n",
    "        # Color that pixel to white\n",
    "        img[y_coord][x_coord] = 255\n",
    "         \n",
    "    # Randomly pick some pixels in\n",
    "    # the image for coloring them black\n",
    "    # Pick a random number between 300 and 10000\n",
    "    #number_of_pixels = random.randint(300 , 10000)\n",
    "    number_of_pixels = 1-d\n",
    "    for i in range(number_of_pixels):\n",
    "       \n",
    "        # Pick a random y coordinate\n",
    "        y_coord=random.randint(0, row - 1)\n",
    "         \n",
    "        # Pick a random x coordinate\n",
    "        x_coord=random.randint(0, col - 1)\n",
    "         \n",
    "        # Color that pixel to black\n",
    "        img[y_coord][x_coord] = 0\n",
    "         \n",
    "    return img\n",
    " \n",
    "# salt-and-pepper noise can\n",
    "# be applied only to grayscale images\n",
    "# Reading the color image in grayscale image"
   ]
  },
  {
   "cell_type": "code",
   "execution_count": null,
   "id": "633868e0",
   "metadata": {},
   "outputs": [],
   "source": []
  },
  {
   "cell_type": "code",
   "execution_count": 123,
   "id": "288b39d8",
   "metadata": {},
   "outputs": [
    {
     "ename": "TypeError",
     "evalue": "'float' object cannot be interpreted as an integer",
     "output_type": "error",
     "traceback": [
      "\u001b[1;31m---------------------------------------------------------------------------\u001b[0m",
      "\u001b[1;31mTypeError\u001b[0m                                 Traceback (most recent call last)",
      "Input \u001b[1;32mIn [123]\u001b[0m, in \u001b[0;36m<cell line: 12>\u001b[1;34m()\u001b[0m\n\u001b[0;32m      7\u001b[0m \u001b[38;5;66;03m#Storing the image\u001b[39;00m\n\u001b[0;32m      8\u001b[0m \u001b[38;5;66;03m#cv2.imwrite('salt-and-pepper-1.tiff',add_noise(img))\u001b[39;00m\n\u001b[0;32m      9\u001b[0m \u001b[38;5;66;03m#img1=cv2.imread('salt-and-pepper-1.tiff',cv2.IMREAD_GRAYSCALE)\u001b[39;00m\n\u001b[0;32m     11\u001b[0m d\u001b[38;5;241m=\u001b[39m\u001b[38;5;241m0.15\u001b[39m\n\u001b[1;32m---> 12\u001b[0m img1\u001b[38;5;241m=\u001b[39m\u001b[43madd_noise\u001b[49m\u001b[43m(\u001b[49m\u001b[43mimg\u001b[49m\u001b[43m,\u001b[49m\u001b[43md\u001b[49m\u001b[43m)\u001b[49m\n\u001b[0;32m     14\u001b[0m \u001b[38;5;66;03m#value=ssim(img,img1)\u001b[39;00m\n\u001b[0;32m     15\u001b[0m value\u001b[38;5;241m=\u001b[39mssim(img,img1)\n",
      "Input \u001b[1;32mIn [120]\u001b[0m, in \u001b[0;36madd_noise\u001b[1;34m(img, d)\u001b[0m\n\u001b[0;32m      6\u001b[0m \u001b[38;5;66;03m# Randomly pick some pixels in the\u001b[39;00m\n\u001b[0;32m      7\u001b[0m \u001b[38;5;66;03m# image for coloring them white\u001b[39;00m\n\u001b[0;32m      8\u001b[0m \u001b[38;5;66;03m# Pick a random number between 300 and 10000\u001b[39;00m\n\u001b[0;32m      9\u001b[0m \u001b[38;5;66;03m#number_of_pixels = random.randint(300, 10000)\u001b[39;00m\n\u001b[0;32m     10\u001b[0m number_of_pixels \u001b[38;5;241m=\u001b[39m d\n\u001b[1;32m---> 11\u001b[0m \u001b[38;5;28;01mfor\u001b[39;00m i \u001b[38;5;129;01min\u001b[39;00m \u001b[38;5;28;43mrange\u001b[39;49m\u001b[43m(\u001b[49m\u001b[43mnumber_of_pixels\u001b[49m\u001b[43m)\u001b[49m:\n\u001b[0;32m     12\u001b[0m    \n\u001b[0;32m     13\u001b[0m     \u001b[38;5;66;03m# Pick a random y coordinate\u001b[39;00m\n\u001b[0;32m     14\u001b[0m     y_coord\u001b[38;5;241m=\u001b[39mrandom\u001b[38;5;241m.\u001b[39mrandint(\u001b[38;5;241m0\u001b[39m, row \u001b[38;5;241m-\u001b[39m \u001b[38;5;241m1\u001b[39m)\n\u001b[0;32m     16\u001b[0m     \u001b[38;5;66;03m# Pick a random x coordinate\u001b[39;00m\n",
      "\u001b[1;31mTypeError\u001b[0m: 'float' object cannot be interpreted as an integer"
     ]
    }
   ],
   "source": [
    "path=r'C://Users//Biswarup Mistry//Desktop//Misc1//db//' \n",
    "item='1.tiff'\n",
    "k=str(path+str(item))\n",
    "\n",
    "img = cv2.imread(k,cv2.IMREAD_GRAYSCALE)\n",
    " \n",
    "#Storing the image\n",
    "#cv2.imwrite('salt-and-pepper-1.tiff',add_noise(img))\n",
    "#img1=cv2.imread('salt-and-pepper-1.tiff',cv2.IMREAD_GRAYSCALE)\n",
    "\n",
    "d=0.15\n",
    "img1=add_noise(img,d)\n",
    "\n",
    "#value=ssim(img,img1)\n",
    "value=ssim(img,img1)\n",
    "\n",
    "print(value)"
   ]
  },
  {
   "cell_type": "code",
   "execution_count": null,
   "id": "c6acbdf6",
   "metadata": {},
   "outputs": [],
   "source": []
  }
 ],
 "metadata": {
  "kernelspec": {
   "display_name": "Python 3 (ipykernel)",
   "language": "python",
   "name": "python3"
  },
  "language_info": {
   "codemirror_mode": {
    "name": "ipython",
    "version": 3
   },
   "file_extension": ".py",
   "mimetype": "text/x-python",
   "name": "python",
   "nbconvert_exporter": "python",
   "pygments_lexer": "ipython3",
   "version": "3.9.12"
  }
 },
 "nbformat": 4,
 "nbformat_minor": 5
}
