{
 "cells": [
  {
   "cell_type": "code",
   "execution_count": 25,
   "id": "06f334aa",
   "metadata": {},
   "outputs": [],
   "source": [
    "from PIL import Image\n"
   ]
  },
  {
   "cell_type": "code",
   "execution_count": 26,
   "id": "b60b2941",
   "metadata": {},
   "outputs": [],
   "source": [
    "path=r'C:\\Users\\Biswarup Mistry\\Desktop\\4.1.05.png'\n",
    "img=Image.open(path)\n",
    "img.show()"
   ]
  },
  {
   "cell_type": "code",
   "execution_count": 30,
   "id": "0ffd00e1",
   "metadata": {},
   "outputs": [
    {
     "name": "stdout",
     "output_type": "stream",
     "text": [
      "Enter Key for encryption of Image : 5\n",
      "The path of file :  C:\\Users\\Biswarup Mistry\\Desktop\\4.1.05.png\n",
      "Key for encryption :  5\n",
      "Error caught :  <class 'Exception'>\n"
     ]
    }
   ],
   "source": [
    "\n",
    "# try block to handle exception\n",
    "try:\n",
    "    # take path of image as a input\n",
    "    #path = input(r'Enter path of Image : ')\n",
    "    path=r'C:\\Users\\Biswarup Mistry\\Desktop\\4.1.05.png'\n",
    "    # taking encryption key as input\n",
    "    key = int(input('Enter Key for encryption of Image : '))\n",
    "    \n",
    "    # print path of image file and encryption key that\n",
    "    # we are using\n",
    "    print('The path of file : ', path)\n",
    "    print('Key for encryption : ', key)\n",
    "    \n",
    "    image=Image.open(path)\n",
    "    # open file for reading purpose\n",
    "    #fin = open(path, 'rb')\n",
    "    \n",
    "    # storing image data in variable \"image\"\n",
    "    #image = fin.read()\n",
    "    #fin.close()\n",
    "\n",
    "    # converting image into byte array to\n",
    "    # perform encryption easily on numeric data\n",
    "    image = bytearray(image)\n",
    "\n",
    "    # performing XOR operation on each value of bytearray\n",
    "    for index, values in enumerate(image):\n",
    "        image[index] = values ^ key\n",
    "\n",
    "    # opening file for writing purpose\n",
    "#fin = open(path, 'wb')\n",
    "\n",
    "\n",
    "\n",
    "    # writing encrypted data in image\n",
    "    \n",
    "    img=image\n",
    "    img.show()\n",
    "    #img.save('C:\\Users\\Biswarup Mistry\\Desktop\\cipher.png')\n",
    "\n",
    "    \n",
    "    \n",
    "    \n",
    "    #path1=r'C:\\Users\\Biswarup Mistry\\Desktop\\cipher.png'\n",
    "    #fin=open(path1,\"a\")\n",
    "    #fin.write(image)\n",
    "    #fin.close()\n",
    "    print('Encryption Done...')\n",
    "\n",
    "\n",
    "except Exception:\n",
    "    print('Error caught : ', Exception)#Exception.__name__)\n"
   ]
  },
  {
   "cell_type": "code",
   "execution_count": 11,
   "id": "2803bfaa",
   "metadata": {},
   "outputs": [
    {
     "name": "stdout",
     "output_type": "stream",
     "text": [
      "New image saved to 'new_image.png' successfully!\n"
     ]
    }
   ],
   "source": []
  },
  {
   "cell_type": "code",
   "execution_count": null,
   "id": "6adcad02",
   "metadata": {},
   "outputs": [],
   "source": [
    "\n",
    "    # Create a new black image of size 100x100 pixels\n",
    "    width, height = 100, 100\n",
    "    new_image = Image.new('RGB', (width, height), color='black')\n",
    "\n",
    "    # Save the image to a file\n",
    "    output_file = 'new_image.png'\n",
    "    new_image.save(output_file)\n",
    "\n",
    "    print(f\"New image saved to '{output_file}' successfully!\")\n",
    "\n",
    "    \n",
    "    \n",
    "    \n",
    "    "
   ]
  }
 ],
 "metadata": {
  "kernelspec": {
   "display_name": "Python 3 (ipykernel)",
   "language": "python",
   "name": "python3"
  },
  "language_info": {
   "codemirror_mode": {
    "name": "ipython",
    "version": 3
   },
   "file_extension": ".py",
   "mimetype": "text/x-python",
   "name": "python",
   "nbconvert_exporter": "python",
   "pygments_lexer": "ipython3",
   "version": "3.10.9"
  }
 },
 "nbformat": 4,
 "nbformat_minor": 5
}
